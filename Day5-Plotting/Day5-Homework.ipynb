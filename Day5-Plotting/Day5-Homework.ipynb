{
 "cells": [
  {
   "cell_type": "markdown",
   "metadata": {},
   "source": [
    "## Homework: ## \n",
    "### Create a pie chart of the number of survivors in each class of service on the Titanic\n",
    "\n",
    "### 1. Use the code template provided below and load the titanic dataset\n",
    "### 2. Try solving the problem using PandaSQL and using regular Pandas methods to explore the difference\n",
    "### 3. Use help on plt.pie to figure out the right parameters to pass to the pie chart function\n",
    "### 4. See if you can make the slice for First class stick out\n",
    "\n",
    "<br>\n",
    "<details><summary>Click for <b>hint</b></summary>\n",
    "<p>\n",
    "1. Using PandaSQL returns a DataFrame, so extract the necessary parameters to pass to plt.pie\n",
    "<br>\n",
    "2. Regular Pandas returns a Series so you will need to extract the parameters differently\n",
    "<br>\n",
    "3. explode parameters will make a slice stick out\n",
    "<br>\n",
    "<br>\n",
    "</p>\n",
    "</details>\n",
    "\n"
   ]
  },
  {
   "cell_type": "code",
   "execution_count": null,
   "metadata": {},
   "outputs": [],
   "source": [
    "%matplotlib inline\n",
    "import matplotlib.pyplot as plt\n",
    "\n",
    "import seaborn as sns\n",
    "titanic = sns.load_dataset('')\n",
    "\n",
    "import pandas as pd\n",
    "import pandasql as ps\n",
    "from pandasql import sqldf\n",
    "pysqldf = lambda q: sqldf(q, globals())\n",
    "\n",
    "# PandaSQL version\n",
    "\n",
    "\n",
    "\n",
    "# Pandas version\n",
    "\n",
    "\n"
   ]
  },
  {
   "cell_type": "code",
   "execution_count": null,
   "metadata": {},
   "outputs": [],
   "source": []
  }
 ],
 "metadata": {
  "kernelspec": {
   "display_name": "Python 3",
   "language": "python",
   "name": "python3"
  },
  "language_info": {
   "codemirror_mode": {
    "name": "ipython",
    "version": 3
   },
   "file_extension": ".py",
   "mimetype": "text/x-python",
   "name": "python",
   "nbconvert_exporter": "python",
   "pygments_lexer": "ipython3",
   "version": "3.7.3"
  }
 },
 "nbformat": 4,
 "nbformat_minor": 2
}
