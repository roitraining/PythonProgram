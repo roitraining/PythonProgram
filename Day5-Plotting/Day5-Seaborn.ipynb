{
 "cells": [
  {
   "cell_type": "code",
   "execution_count": null,
   "metadata": {},
   "outputs": [],
   "source": [
    "%matplotlib inline\n",
    "import numpy as np\n",
    "import pandas as pd\n",
    "from pandas import Series, DataFrame\n",
    "import matplotlib as mp\n",
    "import matplotlib.pyplot as plt\n",
    "\n",
    "ts = Series(np.random.randn(1000), index=pd.date_range('1/1/2000', periods=1000))\n",
    "\n",
    "ts = ts.cumsum()\n",
    "\n",
    "#plt.plot(ts)\n",
    "ts.plot()"
   ]
  },
  {
   "cell_type": "code",
   "execution_count": null,
   "metadata": {},
   "outputs": [],
   "source": [
    "\n",
    "ts.plot()"
   ]
  },
  {
   "cell_type": "code",
   "execution_count": null,
   "metadata": {},
   "outputs": [],
   "source": [
    "\n",
    "plt.plot(ts)\n"
   ]
  },
  {
   "cell_type": "code",
   "execution_count": null,
   "metadata": {},
   "outputs": [],
   "source": [
    "np.random.seed(0)\n",
    "ts = Series(np.random.randn(1000), index=pd.date_range('1/1/2000', periods=1000))\n",
    "\n",
    "df = DataFrame(np.random.randn(1000,4), index=ts.index, columns=list('ABCD'))\n",
    "#['A','B','C','D']\n",
    "#df = DataFrame(np.random.randn(1000,4), index=ts.index, columns='Alpha,Beta,Gamma,Delta'.split(','))\n",
    "df = df.cumsum()\n",
    "#display(df)\n",
    "df.loc[:,['A','B']].plot()\n",
    "#plt.plot(df)"
   ]
  },
  {
   "cell_type": "code",
   "execution_count": null,
   "metadata": {},
   "outputs": [],
   "source": [
    "a = np.random.randn(1000)-1\n",
    "b = np.random.randn(1000)\n",
    "c = np.random.randn(1000)+1\n",
    "df = pd.DataFrame({'A':a, 'B': b, 'C':c})\n",
    "#display(df)\n",
    "df.plot(kind='hist')"
   ]
  },
  {
   "cell_type": "code",
   "execution_count": null,
   "metadata": {},
   "outputs": [],
   "source": [
    "#df = pd.DataFrame({'A': a, 'B': b})\n",
    "df.hist(alpha = .3)"
   ]
  },
  {
   "cell_type": "code",
   "execution_count": null,
   "metadata": {},
   "outputs": [],
   "source": [
    "#display(df)\n",
    "plt.scatter(df['A'], df['B'])"
   ]
  },
  {
   "cell_type": "code",
   "execution_count": null,
   "metadata": {},
   "outputs": [],
   "source": [
    "pd.plotting.scatter_matrix(df, alpha = .3, diagonal = 'kde')\n",
    "\n",
    "#help(pd.plotting.scatter_matrix)"
   ]
  },
  {
   "cell_type": "code",
   "execution_count": null,
   "metadata": {},
   "outputs": [],
   "source": [
    "pd.plotting.scatter_matrix(df, diagonal = 'kde', alpha = .3)"
   ]
  },
  {
   "cell_type": "code",
   "execution_count": null,
   "metadata": {},
   "outputs": [],
   "source": [
    "import seaborn as sns\n",
    "iris = sns.load_dataset('iris')\n",
    "ax = sns.catplot(x = 'species', y = 'sepal_length', data = iris, kind = 'strip') "
   ]
  },
  {
   "cell_type": "code",
   "execution_count": null,
   "metadata": {},
   "outputs": [],
   "source": [
    "ax = sns.catplot(x = 'species', y = 'sepal_length', data = iris, kind = 'swarm') "
   ]
  },
  {
   "cell_type": "code",
   "execution_count": null,
   "metadata": {},
   "outputs": [],
   "source": [
    "ax = sns.catplot(x = 'species', y = 'sepal_length', data = iris, kind = 'box') "
   ]
  },
  {
   "cell_type": "code",
   "execution_count": null,
   "metadata": {},
   "outputs": [],
   "source": [
    "ax = sns.catplot(x = 'species', y = 'sepal_length', data = iris, kind = 'violin') "
   ]
  },
  {
   "cell_type": "markdown",
   "metadata": {},
   "source": [
    "## LAB 3: ## \n",
    "\n",
    "### 1. Try the catplot with the following values for kind: point, bar & boxen\n",
    "### 2. Try customizing the colors using the palette parameter and the sns.color_palette function\n",
    "\n",
    "<br>\n",
    "<details><summary>Click for <b>hint</b></summary>\n",
    "<p>\n",
    "palette = sns.color_palette(['green', 'red', 'yellow'])\n",
    "<br>\n",
    "<br>\n",
    "</p>\n",
    "</details>\n",
    "\n",
    "\n",
    "<details><summary>Click for <b>code</b></summary>\n",
    "<p>\n",
    "\n",
    "```python\n",
    "ax = sns.catplot(x = 'species', y = 'sepal_length', data = iris, kind = 'point') \n",
    "ax = sns.catplot(x = 'species', y = 'sepal_length', data = iris, kind = 'bar') \n",
    "ax = sns.catplot(x = 'species', y = 'sepal_length', data = iris, kind = 'boxen', palette = sns.color_palette(['green', 'red', 'yellow'])) \n",
    "```\n",
    "</p>\n",
    "</details>"
   ]
  },
  {
   "cell_type": "code",
   "execution_count": null,
   "metadata": {},
   "outputs": [],
   "source": [
    "#ax = sns.catplot(x = 'species', y = 'sepal_length', data = iris, kind = 'point') \n",
    "#ax = sns.catplot(x = 'species', y = 'sepal_length', data = iris, kind = 'bar') \n",
    "#ax = sns.catplot(x = 'species', y = 'sepal_length', data = iris, kind = 'boxen', palette = ['green', 'red', 'yellow']) \n",
    "ax = sns.catplot(x = 'species', y = 'sepal_length', data = iris, kind = 'boxen', palette = sns.color_palette([(0,.9,1), (1,0,0), (1,1,0)])) "
   ]
  },
  {
   "cell_type": "code",
   "execution_count": null,
   "metadata": {},
   "outputs": [],
   "source": []
  }
 ],
 "metadata": {
  "kernelspec": {
   "display_name": "Python 3",
   "language": "python",
   "name": "python3"
  },
  "language_info": {
   "codemirror_mode": {
    "name": "ipython",
    "version": 3
   },
   "file_extension": ".py",
   "mimetype": "text/x-python",
   "name": "python",
   "nbconvert_exporter": "python",
   "pygments_lexer": "ipython3",
   "version": "3.7.3"
  }
 },
 "nbformat": 4,
 "nbformat_minor": 2
}
