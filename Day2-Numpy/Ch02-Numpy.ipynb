{
 "cells": [
  {
   "cell_type": "markdown",
   "metadata": {
    "colab_type": "text",
    "id": "c8xydSDTr0_d"
   },
   "source": [
    "# Introduction to NumPy (Numerical Python)\n",
    "\n",
    "## Overview\n",
    "* NumPy is the fundamental package for scientific computing with Python\n",
    "  * See the [NumPy Home Page](http://www.numpy.org/)\n",
    "  \n",
    "### Do Now!\n",
    "* Import NumPy\n",
    "* View the NumPy help page"
   ]
  },
  {
   "cell_type": "code",
   "execution_count": null,
   "metadata": {
    "colab": {},
    "colab_type": "code",
    "id": "spMTebWpr0_g"
   },
   "outputs": [],
   "source": [
    "import numpy as np"
   ]
  },
  {
   "cell_type": "code",
   "execution_count": null,
   "metadata": {
    "colab": {},
    "colab_type": "code",
    "id": "EUgLKp2Kr0_k"
   },
   "outputs": [],
   "source": [
    "np.__version__"
   ]
  },
  {
   "cell_type": "code",
   "execution_count": null,
   "metadata": {
    "colab": {},
    "colab_type": "code",
    "id": "Lyc--3KPr0_o"
   },
   "outputs": [],
   "source": [
    "dir(np)"
   ]
  },
  {
   "cell_type": "markdown",
   "metadata": {
    "colab_type": "text",
    "id": "E0xKoXwrr0_v"
   },
   "source": [
    "## NumPy is huge!\n",
    "* Development of NumPy started in the mid-90s\n",
    "* See the Wikipedia article on [NumPy's history](https://en.wikipedia.org/wiki/NumPy#History) for details\n"
   ]
  },
  {
   "cell_type": "markdown",
   "metadata": {
    "colab_type": "text",
    "id": "vIH5FI_0r0_w"
   },
   "source": [
    "## About *ndarray*\n",
    "* NumPy provides the class *ndarray*\n",
    "* This contain single dimensional and multidimensional arrays\n",
    "## *ndarray*s vs. *list*s and *array.array*s\n",
    "* Compared to *list*s, *ndarray*s are:\n",
    "  * more space efficient\n",
    "  * less flexible\n",
    "    * *list*s can hold heterogeneous data\n",
    "  * more performant\n",
    "  * able to be used to solve the same type of problems\n",
    "    * *list*s and *ndarray*s can hold data in multidimensions\n",
    "\n",
    "* Compared to *array.array*s, *ndarray*s are: \n",
    "  * similar in space efficiency\n",
    "  * identical in requiring data to be homogeneous\n",
    "  * similar in their run-time performance\n",
    "  * able to be used with more general problems\n",
    "    * *array.array*s can hold data in only one dimension"
   ]
  },
  {
   "cell_type": "code",
   "execution_count": null,
   "metadata": {
    "colab": {},
    "colab_type": "code",
    "id": "uR0aCxjlr0_2"
   },
   "outputs": [],
   "source": [
    "dir(np.ndarray)"
   ]
  },
  {
   "cell_type": "markdown",
   "metadata": {
    "colab_type": "text",
    "id": "cliq5eoHr0_5"
   },
   "source": [
    "## What can be done with Arrays?\n",
    "* Arrays can be: \n",
    "  * Created\n",
    "  * Manipulated (Joining, Spliting, Shaping, etc.)\n",
    "  * Accessed one element at a time\n",
    "  * Accessed via array slices\n",
    "  * Reshaped\n",
    "  * Split\n",
    "  * Concatenated"
   ]
  },
  {
   "cell_type": "markdown",
   "metadata": {
    "colab_type": "text",
    "id": "25S7sKIUxBZs"
   },
   "source": [
    "# Creating Arrays"
   ]
  },
  {
   "cell_type": "markdown",
   "metadata": {
    "colab_type": "text",
    "id": "MXEp38knxBZv"
   },
   "source": [
    "## Using the *array* Function to Create *ndarrays*\n",
    "* Although it is possible to create an *ndarray* instance using \\_\\_new\\_\\_(), it is not the recommended approach\n",
    "* The factory methods *array*, *zeros*, *ones*, and *empty* are preferred\n",
    "* The *array* factory method is discussed here\n",
    "\n",
    "### Do Now!\n",
    "* Import numpy\n",
    "* View the doc string of the numpy array function"
   ]
  },
  {
   "cell_type": "code",
   "execution_count": null,
   "metadata": {
    "colab": {},
    "colab_type": "code",
    "id": "3F0Wt8T2xBZx"
   },
   "outputs": [],
   "source": [
    "import numpy as np"
   ]
  },
  {
   "cell_type": "code",
   "execution_count": null,
   "metadata": {
    "colab": {},
    "colab_type": "code",
    "id": "KVMSnFHAxBZ2"
   },
   "outputs": [],
   "source": [
    "help(np.array)"
   ]
  },
  {
   "cell_type": "markdown",
   "metadata": {},
   "source": [
    "## The array function will copy the source collection into a numpy array object and automatically determine the data type"
   ]
  },
  {
   "cell_type": "code",
   "execution_count": null,
   "metadata": {
    "colab": {},
    "colab_type": "code",
    "id": "NUe2J_wSxBai"
   },
   "outputs": [],
   "source": [
    "data1 = [1, 2, 3, 4]\n",
    "array1 = np.array(data1)\n",
    "print(array1)\n",
    "print(array1.dtype)\n"
   ]
  },
  {
   "cell_type": "markdown",
   "metadata": {},
   "source": [
    "## Since there is a single float in this collection it determines that is the most appropriate data type for the numpy array"
   ]
  },
  {
   "cell_type": "code",
   "execution_count": null,
   "metadata": {},
   "outputs": [],
   "source": [
    "data2 = [1.0, 2, 3, 4]\n",
    "array2 = np.array(data2)\n",
    "print(array2)\n",
    "print(array2.dtype)\n"
   ]
  },
  {
   "cell_type": "markdown",
   "metadata": {},
   "source": [
    "## You can specify the dtype parameter to force a preferred data type"
   ]
  },
  {
   "cell_type": "code",
   "execution_count": null,
   "metadata": {
    "colab": {},
    "colab_type": "code",
    "id": "0zBWaZEUxBa3"
   },
   "outputs": [],
   "source": [
    "data3 = [1, 2, 3, 4]\n",
    "array3 = np.array(data3, dtype = float)\n",
    "print(array3)\n",
    "print(array3.dtype)\n"
   ]
  },
  {
   "cell_type": "markdown",
   "metadata": {},
   "source": [
    "## If the collection is a collection of other collections, it will create a multi-dimensional numpy array"
   ]
  },
  {
   "cell_type": "code",
   "execution_count": null,
   "metadata": {},
   "outputs": [],
   "source": [
    "data4 = [[1,2,3,4],[5,6,7,8]]\n",
    "array4 = np.array(data4)\n",
    "print(array4)\n",
    "print(array4.dtype)"
   ]
  },
  {
   "cell_type": "markdown",
   "metadata": {
    "colab_type": "text",
    "id": "D2dTCLwOxBbJ"
   },
   "source": [
    "## Summary of useful *ndarray* attributes\n",
    "* For convenience, here a list of *ndarray* attributes\n",
    "* Given x = np.ones( (2,3,4,5), dtype='float128')\n",
    "   * ndim, the number of dimensions; e.g., 4\n",
    "   * shape, the size of each dimension; e.g., (2,3,4,5)\n",
    "   * dtype, the data type of each element; e.g., np.float128\n",
    "   * itemsize, the size of each element \n",
    "        * Determined by the dtype; e.g., 16 bytes\n",
    "   * size, the total number of elements in the array\n",
    "        * Determined by the product of the shape sizes; e.g., 2 \\* 3 \\* 4 \\* 5 = 120\n",
    "   * nbytes, the total size of the array\n",
    "        * Determine by the product of size and itemsize; e.g., 120 * 16 = 1920\n",
    "   * strides, the number of bytes traversed in order to move from element to element in one dimension or across dimensions"
   ]
  },
  {
   "cell_type": "code",
   "execution_count": null,
   "metadata": {},
   "outputs": [],
   "source": []
  },
  {
   "cell_type": "markdown",
   "metadata": {
    "colab_type": "text",
    "id": "UfZFSY6_xBbL"
   },
   "source": [
    "## Using the *zeros* Function to Create *ndarrays*\n",
    "* The *zeros* function, as its name suggest, creates an *ndarray* containing all zeros\n",
    "* Unlike the *array* function, *zeros* doesn't take source data\n",
    "* *zeros* includes a *shape* parameter for specifying the dimensions of the created *ndarray*\n"
   ]
  },
  {
   "cell_type": "code",
   "execution_count": null,
   "metadata": {
    "colab": {},
    "colab_type": "code",
    "id": "u0D6qN0qxBbN"
   },
   "outputs": [],
   "source": [
    "help(np.zeros)"
   ]
  },
  {
   "cell_type": "code",
   "execution_count": null,
   "metadata": {},
   "outputs": [],
   "source": [
    "z1 = np.zeros(4)\n",
    "o1 = np.ones((2,4))\n",
    "e1 = np.empty((2,4))\n",
    "\n",
    "print(z1)\n",
    "print(o1)\n",
    "print(e1)"
   ]
  },
  {
   "cell_type": "markdown",
   "metadata": {
    "colab_type": "text",
    "id": "6kqBToTqxBbQ"
   },
   "source": [
    "## LAB 1: ## \n",
    "#### 1.\tDefine an ndarray containing the integer numbers 0 to 9.\n",
    "#### 2.\tPrint the type of the array to the console.\n",
    "#### 3.\tPrint the following properties of the array:\n",
    "    a.\tndim\n",
    "    b.\tshape\n",
    "    c.\tsize\n",
    "    \n",
    "#### 4.\tDefine a 3 x 3 NumPy array containing all 1s of integer type and display it to the console.\n",
    "#### 5.\tPrint the three properties of Step 3 on the array defined in Step 4.\n",
    "\n",
    "<br>\n",
    "\n",
    "<details><summary>Click for <b>code</b></summary>\n",
    "<p>\n",
    "\n",
    "```python\n",
    "import numpy as np\n",
    "a1 = np.arange(10)\n",
    "print(a1)\n",
    "print(a1.dtype, a1.ndim, a1.shape, a1.size)\n",
    "\n",
    "a2 = np.ones((3,3), dtype='int32')\n",
    "print(a2)\n",
    "print(a2.dtype, a2.ndim, a2.shape, a2.size)\n",
    "\n",
    "```\n",
    "</p>\n",
    "</details>"
   ]
  },
  {
   "cell_type": "markdown",
   "metadata": {},
   "source": [
    "## Instead of using the python range function and converting it into a numpy array, you could directly create a numpy array using the arange function"
   ]
  },
  {
   "cell_type": "code",
   "execution_count": null,
   "metadata": {
    "colab": {},
    "colab_type": "code",
    "id": "zPBXte8zxBbh"
   },
   "outputs": [],
   "source": [
    "help(np.arange)"
   ]
  },
  {
   "cell_type": "code",
   "execution_count": null,
   "metadata": {
    "colab": {},
    "colab_type": "code",
    "id": "VXgJu2laxBbm"
   },
   "outputs": [],
   "source": [
    "print (\"arange array = \", np.arange(5, 25, 4))"
   ]
  },
  {
   "cell_type": "markdown",
   "metadata": {
    "colab_type": "text",
    "id": "23oMPBkdxBbw"
   },
   "source": [
    "### *np.linspace*\n",
    "* View the doc string for *np.linspace*\n",
    "* Print an array of 50 numbers spaced over the interval 1 to 25"
   ]
  },
  {
   "cell_type": "code",
   "execution_count": null,
   "metadata": {
    "colab": {},
    "colab_type": "code",
    "id": "fcyxk6S6xBbz"
   },
   "outputs": [],
   "source": [
    "help(np.linspace)"
   ]
  },
  {
   "cell_type": "code",
   "execution_count": null,
   "metadata": {
    "colab": {},
    "colab_type": "code",
    "id": "xN6COUyYxBb2"
   },
   "outputs": [],
   "source": [
    "print (\"Evenly spaced array = \", np.linspace(1,25))"
   ]
  },
  {
   "cell_type": "markdown",
   "metadata": {},
   "source": [
    "## You can add a simple scalar value to an array and it will have the effect of adding it to each elements\n",
    "### Note the difference if you do a multiply operation to a python list instead"
   ]
  },
  {
   "cell_type": "code",
   "execution_count": null,
   "metadata": {},
   "outputs": [],
   "source": [
    "array1 = np.array([[1,2,3],[4,5,6]])\n",
    "print(array1 + 10)\n",
    "\n",
    "print(array1 * 10)\n",
    "\n",
    "print([1, 2, 3] * 10)"
   ]
  },
  {
   "cell_type": "markdown",
   "metadata": {},
   "source": [
    "## Arrays of compatible shapes can also be operated on"
   ]
  },
  {
   "cell_type": "code",
   "execution_count": null,
   "metadata": {
    "scrolled": true
   },
   "outputs": [],
   "source": [
    "print(array1 + array1)\n",
    "print(array1 * array1)\n",
    "array2 = np.array([10, 20, 30])\n",
    "print(array1 * array2)\n",
    "\n",
    "# This is the wrong shape\n",
    "# array3 = np.array([10, 20])\n",
    "# print(array1 * array3)\n",
    "\n",
    "array4 = np.array([[10], [20]])\n",
    "print(array1 * array4)\n"
   ]
  },
  {
   "cell_type": "markdown",
   "metadata": {},
   "source": [
    "## Slicing is similar to how it behaves in a python collection with a few twists"
   ]
  },
  {
   "cell_type": "code",
   "execution_count": null,
   "metadata": {},
   "outputs": [],
   "source": [
    "array1 = np.arange(12)\n",
    "print(array1[2])\n",
    "print(array1[2:5])\n",
    "array1[2:5] = 99\n",
    "print(array1)"
   ]
  },
  {
   "cell_type": "markdown",
   "metadata": {},
   "source": [
    "## When you have a multi-dimensional array it can start to be a bit different"
   ]
  },
  {
   "cell_type": "code",
   "execution_count": null,
   "metadata": {},
   "outputs": [],
   "source": [
    "array2d = np.array([[1,2],[3,4],[5,6]])\n",
    "print(array2d[1])      # returns the entire second element --> [3,4]\n",
    "print(array2d[1][0])   # returns the second elements then takes the first element of that\n",
    "print(array2d[1,0])    # returns the element at second row first column\n",
    "print(array2d[0:2][0]) # returns the first two elements, then the first element of that\n",
    "print(array2d[0:2,0])  # returns the slice of the first two rows and the first column of each of those rows"
   ]
  },
  {
   "cell_type": "markdown",
   "metadata": {},
   "source": [
    "## You can reshape arrays from one to two dimensions and vice versa so long as the dimensions make sense for the number of elements in the array"
   ]
  },
  {
   "cell_type": "code",
   "execution_count": null,
   "metadata": {},
   "outputs": [],
   "source": [
    "array1 = np.arange(20).reshape((4,5))\n",
    "print(array1)\n",
    "array2 = array1.reshape(20)\n",
    "print(array2)\n",
    "array3 = array1.reshape(2,10)\n",
    "print(array3)"
   ]
  },
  {
   "cell_type": "markdown",
   "metadata": {},
   "source": [
    "## You can flatten an array to one dimension with either ravel or flatten. Ravel only makes a copy if necessary whereas flatten always makes a copy"
   ]
  },
  {
   "cell_type": "code",
   "execution_count": null,
   "metadata": {},
   "outputs": [],
   "source": [
    "array3 = array1.ravel()\n",
    "print(array3)\n",
    "array4 = array1.flatten()\n",
    "print(array4)"
   ]
  },
  {
   "cell_type": "markdown",
   "metadata": {},
   "source": [
    "## Transposing is the process of flipping an array 90 degrees and is easy to do in numpy"
   ]
  },
  {
   "cell_type": "code",
   "execution_count": null,
   "metadata": {},
   "outputs": [],
   "source": [
    "print(array1)\n",
    "print(array1.T)"
   ]
  },
  {
   "cell_type": "code",
   "execution_count": null,
   "metadata": {},
   "outputs": [],
   "source": [
    "print(array1)\n",
    "print(array1.sum())\n",
    "print(np.sum(array1))\n",
    "print(array1.sum(axis=0))\n",
    "print(array1.sum(axis=1))\n"
   ]
  },
  {
   "cell_type": "markdown",
   "metadata": {},
   "source": [
    "## LAB 2: ## \n",
    "#### 1.\tDefine a 3 x 3 array with the integers 1 through 9 named array1.\n",
    "#### 2.\tDefine a second 3 x 3 array with the number 2 in each cell named array2.\n",
    "#### 3.\tNow, perform the following operations using the two arrays:\n",
    "    a.\tarray1+array2\n",
    "    b.\tarray1-array2\n",
    "    c.\tarray1/array2\n",
    "    d.\tarray1*5\n",
    "#### 4.\tPrint elements 4 to 6 of array 1 using a slice operation.\n",
    "#### 5.\tCreate a new single-dimensioned array named array3 with the numbers 0 through 19 in it.\n",
    "#### 6.\tTake a slice of elements 5 to 15 of array 3 and assign the slice to a variable named aslice and print the variable.\n",
    "#### 7.\tModify the contents of the first and last elements of the slice by writing the value 99 into these elements.\n",
    "#### 8.\tPrint the contents of the slice aslice and the array array3. Are the contents what you expect of both arrays?\n",
    "<br>\n",
    "<details><summary>Click for <b>hint</b></summary>\n",
    "<p>\n",
    "Use empty to create an array and set all values to 2 using a slice syntax. Make sure to use integers data types.\n",
    "<br>\n",
    "To set the elements from the right of a slice use negative numbers. Don't forget the index starts at zero on the left.\n",
    "<br>\n",
    "<br>\n",
    "</p>\n",
    "</details>\n",
    "\n",
    "\n",
    "<details><summary>Click for <b>code</b></summary>\n",
    "<p>\n",
    "\n",
    "```python\n",
    "array1 = np.arange(1, 10).reshape((3,3))\n",
    "print(array1)\n",
    "array2 = np.empty((3,3), dtype='int32')\n",
    "array2[:] = 2\n",
    "print(array2)\n",
    "\n",
    "print(array1 + array2)\n",
    "print(array1 - array2)\n",
    "print(array1 / array2)\n",
    "print(array1 + 5)\n",
    "\n",
    "print(array1.reshape((9,))[4:6])\n",
    "\n",
    "array3 = np.arange(0, 20)\n",
    "aslice = array3[5:15]\n",
    "print(aslice)\n",
    "aslice[0] = 99\n",
    "aslice[-1] = 99\n",
    "print(aslice)\n",
    "print(array3)\n",
    "```\n",
    "</p>\n",
    "</details>"
   ]
  },
  {
   "cell_type": "markdown",
   "metadata": {},
   "source": [
    "## You can read and write from files into numpy arrays"
   ]
  },
  {
   "cell_type": "code",
   "execution_count": null,
   "metadata": {},
   "outputs": [],
   "source": [
    "array1 = np.arange(10)\n",
    "np.save('array1.npy', array1)\n",
    "array2 = np.load('array1.npy')\n",
    "print(array2)\n",
    "! cat array1.npy"
   ]
  },
  {
   "cell_type": "markdown",
   "metadata": {},
   "source": [
    "## File archives allow you to store multiple numpy arrays into one file. It's sort of like a saved dictionary"
   ]
  },
  {
   "cell_type": "code",
   "execution_count": null,
   "metadata": {},
   "outputs": [],
   "source": [
    "array1 = np.arange(10)\n",
    "array2 = 2 * array1\n",
    "np.savez('array_archive.npz', data_set_1=array1, data_set_2=array2)\n",
    "archive = np.load('array_archive.npz')\n",
    "print(archive['data_set_1'])\n",
    "print(archive['data_set_2'])"
   ]
  },
  {
   "cell_type": "markdown",
   "metadata": {},
   "source": [
    "## If you want to read or write from plain text files instead of the numpy serialized file format, there is another set of methods for that"
   ]
  },
  {
   "cell_type": "code",
   "execution_count": null,
   "metadata": {},
   "outputs": [],
   "source": [
    "array2d = np.array([[1,2,3],[4,5,6]])\n",
    "np.savetxt('array_data.txt', array2d, delimiter=',')\n",
    "array2d_from_file = np.loadtxt('array_data.txt', delimiter=',')\n",
    "print(array2d_from_file)\n",
    "! cat array_data.txt"
   ]
  },
  {
   "cell_type": "markdown",
   "metadata": {},
   "source": [
    "## With NumPy, multiplying two two-dimensional arrays with * is an element-wise product, not a matrix dot product"
   ]
  },
  {
   "cell_type": "code",
   "execution_count": null,
   "metadata": {},
   "outputs": [],
   "source": [
    "array1 = np.array([[1,2,3],[4,5,6]])\n",
    "array2 = np.array([[1,2,3],[4,5,6]])\n",
    "array_multiply = array1 * array2\n",
    "print(array_multiply)"
   ]
  },
  {
   "cell_type": "markdown",
   "metadata": {},
   "source": [
    "## The dot method will do the cross multiply dot product used in a lot of complex algorithms"
   ]
  },
  {
   "cell_type": "code",
   "execution_count": null,
   "metadata": {},
   "outputs": [],
   "source": [
    "array1 = np.array([[1,2,3],[4,5,6]])\n",
    "array2 = np.array([[1,2],[3,4],[5,6]])\n",
    "array_dot_product = array1.dot(array2)\n",
    "print(array_dot_product)"
   ]
  },
  {
   "cell_type": "markdown",
   "metadata": {},
   "source": [
    "## Examples of random number generation"
   ]
  },
  {
   "cell_type": "code",
   "execution_count": null,
   "metadata": {},
   "outputs": [],
   "source": [
    "print (np.random.normal(5, 2, 9)) # mean = 5, std = 2\n",
    "print (np.random.uniform(1, 100, 8)) # low = 1, high = 100\n",
    "print (np.random.poisson(10, 10)) # 10 numbers averaging to 10"
   ]
  },
  {
   "cell_type": "markdown",
   "metadata": {},
   "source": [
    "## Sometimes a function does not have a dtype parameter directly, but you can use the astype method to cast it to what you want"
   ]
  },
  {
   "cell_type": "code",
   "execution_count": null,
   "metadata": {},
   "outputs": [],
   "source": [
    "array1 = np.random.uniform(1, 100, 8)\n",
    "print(array1)\n",
    "array2 = array1.astype(int)\n",
    "print(array2)"
   ]
  },
  {
   "cell_type": "code",
   "execution_count": null,
   "metadata": {},
   "outputs": [],
   "source": [
    "np.random.seed(1)\n",
    "print(np.random.uniform(1, 100, 8).astype(int))"
   ]
  },
  {
   "cell_type": "markdown",
   "metadata": {},
   "source": [
    "## Homework: ## \n",
    "#### 1.\tGenerate 20 random integers between 1 and 100\n",
    "#### 2.\tPrint the mean of those numbers\n",
    "#### 3.\tTurn those 20 numbers into a 4 x 5 matrix\n",
    "#### 4. Transpose the matrix into a new variable\n",
    "#### 5.\tFind the dot product of the matrix and its transposed version\n",
    "#### 6. Solve the simultaneous equations:\n",
    "     10x + 20y = 50\n",
    "     30x + 40y = 60\n",
    "<br>\n",
    "<details><summary>Click for <b>hint</b></summary>\n",
    "<p>\n",
    "Look at help on np.random. There are more choices than what we did in the slides.\n",
    "<br>\n",
    "To solve simultaneous equations look at np.linalg.solve\n",
    "<br>\n",
    "<br>\n",
    "</p>\n",
    "</details>\n",
    "\n"
   ]
  },
  {
   "cell_type": "code",
   "execution_count": null,
   "metadata": {},
   "outputs": [],
   "source": []
  }
 ],
 "metadata": {
  "anaconda-cloud": {},
  "colab": {
   "include_colab_link": true,
   "name": "02-01-NumPy-Introduction.ipynb",
   "provenance": []
  },
  "kernelspec": {
   "display_name": "Python 3",
   "language": "python",
   "name": "python3"
  },
  "language_info": {
   "codemirror_mode": {
    "name": "ipython",
    "version": 3
   },
   "file_extension": ".py",
   "mimetype": "text/x-python",
   "name": "python",
   "nbconvert_exporter": "python",
   "pygments_lexer": "ipython3",
   "version": "3.7.3"
  }
 },
 "nbformat": 4,
 "nbformat_minor": 1
}
