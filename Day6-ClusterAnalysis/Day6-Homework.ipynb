{
 "cells": [
  {
   "cell_type": "markdown",
   "metadata": {},
   "source": [
    "## Homework: ## \n",
    "\n",
    "### Read the superchargers.csv found in the /class/datasets folder. It has simply two columns a lat and lng representing the location of Tesla superchargers in a few cities. Run a cluster analysis to determine what are the natural number of clusters and plot that and determine the centroids of the clusters.\n",
    "\n",
    "<details><summary>Click for <b>hint</b></summary>\n",
    "<p>\n",
    "Remember to import all the correct libraries. Sometimes just figuring that out is half the battle.\n",
    "<br>\n",
    "Copy the plot_cluster and silhouette_plot helper functions to make it easier\n",
    "<br>\n",
    "<br>\n",
    "</p>\n",
    "</details>\n",
    "\n",
    "\n",
    "<details><summary>Click for <b>code</b></summary>\n",
    "<p>\n",
    "\n",
    "```python\n",
    "import numpy as np\n",
    "import pandas as pd\n",
    "import matplotlib.pyplot as plt\n",
    "from sklearn import cluster\n",
    "from sklearn.cluster import KMeans\n",
    "\n",
    "```\n",
    "</p>\n",
    "</details>"
   ]
  },
  {
   "cell_type": "code",
   "execution_count": null,
   "metadata": {},
   "outputs": [],
   "source": []
  },
  {
   "cell_type": "code",
   "execution_count": null,
   "metadata": {},
   "outputs": [],
   "source": []
  }
 ],
 "metadata": {
  "kernelspec": {
   "display_name": "Python 3",
   "language": "python",
   "name": "python3"
  },
  "language_info": {
   "codemirror_mode": {
    "name": "ipython",
    "version": 3
   },
   "file_extension": ".py",
   "mimetype": "text/x-python",
   "name": "python",
   "nbconvert_exporter": "python",
   "pygments_lexer": "ipython3",
   "version": "3.7.3"
  }
 },
 "nbformat": 4,
 "nbformat_minor": 2
}
