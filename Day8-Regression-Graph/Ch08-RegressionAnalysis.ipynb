{
 "cells": [
  {
   "cell_type": "code",
   "execution_count": null,
   "metadata": {
    "colab": {},
    "colab_type": "code",
    "id": "0YZkvGltnrYQ"
   },
   "outputs": [],
   "source": [
    "%matplotlib inline\n",
    "import pandas as pd\n",
    "import matplotlib.pyplot as plt\n",
    "import seaborn as sns\n",
    "\n",
    "USAhousing = pd.read_csv('USA_Housing.csv')\n",
    "print(USAhousing.columns)\n",
    "display(USAhousing)\n",
    "\n",
    "sns.distplot(USAhousing['Price'])\n",
    "\n"
   ]
  },
  {
   "cell_type": "code",
   "execution_count": null,
   "metadata": {
    "colab": {},
    "colab_type": "code",
    "id": "enGipIHtnrYY"
   },
   "outputs": [],
   "source": [
    "%matplotlib inline\n",
    "from sklearn.model_selection import train_test_split\n",
    "\n",
    "x = USAhousing[['Avg. Area Income', 'Avg. Area House Age', 'Avg. Area Number of Rooms',\n",
    "               'Avg. Area Number of Bedrooms', 'Area Population']]\n",
    "y = USAhousing['Price']\n",
    "\n",
    "trainX, testX, trainY, testY = train_test_split(x, y, test_size = 0.4, random_state = 101)\n"
   ]
  },
  {
   "cell_type": "code",
   "execution_count": null,
   "metadata": {},
   "outputs": [],
   "source": [
    "from sklearn.linear_model import LinearRegression\n",
    "lm = LinearRegression()\n",
    "lm.fit(trainX, trainY)\n",
    "#dir(lm)\n",
    "predictions = lm.predict(testX)\n",
    "print(testY[:10])\n",
    "print(predictions[:10])\n",
    "plt.scatter(testY, predictions)\n"
   ]
  },
  {
   "cell_type": "code",
   "execution_count": null,
   "metadata": {},
   "outputs": [],
   "source": [
    "from sklearn.metrics import mean_squared_error, r2_score\n",
    "print(\"Mean squared error: %.2f\" % mean_squared_error(testY, predictions))\n",
    "print('Variance score: %.2f' % r2_score(testY, predictions))\n",
    "print(lm.coef_, lm.intercept_)\n"
   ]
  },
  {
   "cell_type": "code",
   "execution_count": null,
   "metadata": {},
   "outputs": [],
   "source": [
    "def predictprice(avg_area_income, avg_area_age, avg_area_rooms, avg_area_bedrooms, area_population):\n",
    "    return 2.15282755e+01 * avg_area_income +  1.64883282e+05 1.22368678e+05 2.23380186e+03\n",
    " 1.51504200e+01] -2640159.796851911\n",
    "\n",
    "\n"
   ]
  },
  {
   "cell_type": "code",
   "execution_count": null,
   "metadata": {
    "colab": {},
    "colab_type": "code",
    "id": "PEIJz4dJnrYc"
   },
   "outputs": [],
   "source": [
    "%matplotlib inline\n",
    "import statsmodels.api as sm\n",
    "\n",
    "model = sm.OLS(trainY, trainX).fit()\n",
    "print(model.summary())\n",
    "\n",
    "predictions = model.predict(testX) # make the predictions by the model\n",
    "print(testY[:10])\n",
    "print(predictions[:10])\n",
    "plt.scatter(testY, predictions)\n"
   ]
  },
  {
   "cell_type": "code",
   "execution_count": null,
   "metadata": {},
   "outputs": [],
   "source": [
    "print (\"Mean squared error: %.2f\" % mean_squared_error(testY, predictions))\n",
    "print ('Variance score: %.2f' % r2_score(testY, predictions))\n"
   ]
  },
  {
   "cell_type": "code",
   "execution_count": null,
   "metadata": {},
   "outputs": [],
   "source": [
    "%matplotlib inline\n",
    "import statsmodels.api as sm\n",
    "\n",
    "model = sm.RLM(trainY, trainX).fit()\n",
    "print(model.summary())\n",
    "\n",
    "predictions = model.predict(testX) # make the predictions by the model\n",
    "plt.scatter(testY, predictions)\n"
   ]
  },
  {
   "cell_type": "code",
   "execution_count": null,
   "metadata": {},
   "outputs": [],
   "source": [
    "print (\"Mean squared error: %.2f\" % mean_squared_error(testY, predictions))\n",
    "print ('Variance score: %.2f' % r2_score(testY, predictions))\n"
   ]
  },
  {
   "cell_type": "code",
   "execution_count": null,
   "metadata": {},
   "outputs": [],
   "source": []
  }
 ],
 "metadata": {
  "colab": {
   "include_colab_link": true,
   "name": "08-01-RegressionAnalysis.ipynb",
   "provenance": []
  },
  "kernelspec": {
   "display_name": "Python 3",
   "language": "python",
   "name": "python3"
  },
  "language_info": {
   "codemirror_mode": {
    "name": "ipython",
    "version": 3
   },
   "file_extension": ".py",
   "mimetype": "text/x-python",
   "name": "python",
   "nbconvert_exporter": "python",
   "pygments_lexer": "ipython3",
   "version": "3.7.3"
  }
 },
 "nbformat": 4,
 "nbformat_minor": 1
}
