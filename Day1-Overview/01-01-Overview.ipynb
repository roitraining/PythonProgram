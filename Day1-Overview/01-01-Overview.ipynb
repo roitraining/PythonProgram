{
 "cells": [
  {
   "cell_type": "code",
   "execution_count": 0,
   "metadata": {
    "colab": {},
    "colab_type": "code",
    "id": "spMTebWpr0_g"
   },
   "outputs": [],
   "source": [
    "numbers = [4, 2, 10, 12, 3, 7, 12]\n",
    "numbers.append(20)\n",
    "numbers[0] = 5\n",
    "print(numbers)\n",
    "numbers.pop()\n",
    "print(numbers)\n",
    "print(numbers[2:])\n",
    "print(numbers[:2])\n",
    "print(numbers[2:-2])"
   ]
  },
  {
   "cell_type": "code",
   "execution_count": 0,
   "metadata": {
    "colab": {},
    "colab_type": "code",
    "id": "EUgLKp2Kr0_k"
   },
   "outputs": [],
   "source": [
    "numbers = {3, 2, 1, 1, 4, 5, 6, 3}\n",
    "print(numbers)\n",
    "\n",
    "others = {1, 4, 7}\n",
    "print(numbers.intersection(others))\n",
    "print(numbers.difference(others))\n",
    "print(numbers.union(others))\n",
    "\n",
    "numbers2 = set(numbers)\n",
    "print(numbers2)"
   ]
  },
  {
   "cell_type": "code",
   "execution_count": 0,
   "metadata": {
    "colab": {},
    "colab_type": "code",
    "id": "Lyc--3KPr0_o"
   },
   "outputs": [],
   "source": [
    "record = {'firstname':'Adam', 'lastname':'Smith', 'age':50}\n",
    "print(record['firstname'])\n",
    "record['lastname'] = 'Jones'\n",
    "record['gender'] = 'M'\n",
    "print(record.keys())\n",
    "print(record.values())\n",
    "print(record.items())\n",
    "del record['gender']"
   ]
  },
  {
   "cell_type": "code",
   "execution_count": 0,
   "metadata": {
    "colab": {},
    "colab_type": "code",
    "id": "RKWnuO0QOUBj"
   },
   "outputs": [],
   "source": [
    "print([x * 2 for x in [1, 2, 3, 4]])\n",
    "print([x for x in [1, 2, 3, 4, 4] if x % 2 == 0])"
   ]
  },
  {
   "cell_type": "markdown",
   "metadata": {
    "colab_type": "text",
    "id": "vr6isEXSr0_r"
   },
   "source": [
    "## LAB: ## \n",
    "### Using the numbers list we created above, multiply each number by 2.\n",
    "### Next, only multiply the numbers less than 10 by 2.\n",
    "<br>\n",
    "<details><summary>Click for <b>hint</b></summary>\n",
    "<p>\n",
    "Try writing the for part first and use a simple name for the range variable that takes on each value one at a time\n",
    "<br>\n",
    "Put the calculation using the range variable in front of the for\n",
    "<br>\n",
    "If clause follows the for clause and can be used to make a conditional like a WHERE clause does in SQL\n",
    "<br>\n",
    "<br>\n",
    "</p>\n",
    "</details>\n",
    "\n",
    "<details><summary>Click for <b>code</b></summary>\n",
    "<p>\n",
    "\n",
    "```python\n",
    "print([n * 2 for n in numbers])\n",
    "print([n * 2 for n in numbers if n < 10])\n",
    "```\n",
    "</p>\n",
    "</details>"
   ]
  },
  {
   "cell_type": "code",
   "execution_count": 0,
   "metadata": {
    "colab": {},
    "colab_type": "code",
    "id": "RCQg_s7TOUBn"
   },
   "outputs": [],
   "source": []
  },
  {
   "cell_type": "code",
   "execution_count": 0,
   "metadata": {
    "colab": {},
    "colab_type": "code",
    "id": "QMsvcGztr0_s"
   },
   "outputs": [],
   "source": [
    "def double(x):\n",
    "    return x * 2\n",
    "\n",
    "print(double(10))\n"
   ]
  },
  {
   "cell_type": "code",
   "execution_count": 0,
   "metadata": {
    "colab": {},
    "colab_type": "code",
    "id": "G6P244BsOUBu"
   },
   "outputs": [],
   "source": [
    "triple = lambda x : x * 3\n",
    "print(triple(10))\n"
   ]
  },
  {
   "cell_type": "code",
   "execution_count": 0,
   "metadata": {
    "colab": {},
    "colab_type": "code",
    "id": "8z3Etj_kOUBx"
   },
   "outputs": [],
   "source": [
    "data = [10, 2, 30, 4, 5]\n",
    "print(map(double, data))\n",
    "print(list(map(double, data)))\n",
    "print(list(map(lambda x : x * 5, data)))\n",
    "print([x * 5 for x in data])"
   ]
  },
  {
   "cell_type": "code",
   "execution_count": 0,
   "metadata": {
    "colab": {},
    "colab_type": "code",
    "id": "s0GQ83l9OUB0"
   },
   "outputs": [],
   "source": [
    "print(filter(lambda x : x < 10, data))\n",
    "print(list(filter(lambda x : x < 10, data)))\n",
    "print([x for x in data if x < 10])\n"
   ]
  },
  {
   "cell_type": "code",
   "execution_count": 0,
   "metadata": {
    "colab": {},
    "colab_type": "code",
    "id": "KAB5F3YPOUB3"
   },
   "outputs": [],
   "source": [
    "print(sorted(data))\n",
    "print(sorted(data, reverse=True))\n",
    "print(sorted(data, key=lambda x : (x % 2, x)))"
   ]
  },
  {
   "cell_type": "markdown",
   "metadata": {
    "colab_type": "text",
    "id": "znQNoz2iOUB7"
   },
   "source": [
    "## LAB: ## \n",
    "### Given the list of names below, sort them on the length of the name so the shortest names are first.\n",
    "### Try to sort them alphabetically regardless of case.\n",
    "<br>\n",
    "<details><summary>Click for <b>hint</b></summary>\n",
    "<p>\n",
    "Create a lambda function using the built in len function\n",
    "<br>\n",
    "Create a lambda function using a method built into strings that can ignore the case\n",
    "<br>\n",
    "<br>\n",
    "</p>\n",
    "</details>\n",
    "\n",
    "<details><summary>Click for <b>code</b></summary>\n",
    "<p>\n",
    "\n",
    "```python\n",
    "print(sorted(names))\n",
    "print(sorted(names, key = lambda x : len(x)))\n",
    "print(sorted(names, key = lambda x : x.upper()))\n",
    "```\n",
    "</p>\n",
    "</details>"
   ]
  },
  {
   "cell_type": "code",
   "execution_count": 0,
   "metadata": {
    "colab": {},
    "colab_type": "code",
    "id": "Fx0Axc_yOUB9"
   },
   "outputs": [],
   "source": [
    "names = ['bob', 'Linda', 'Adam', 'betty']\n",
    "\n"
   ]
  },
  {
   "cell_type": "markdown",
   "metadata": {
    "colab_type": "text",
    "id": "9ZxXTftVOUCA"
   },
   "source": [
    "## HOMEWORK: ## \n",
    "### Given the list of names below, print out all the names in alphabetical order.\n",
    "### Print just the male students showing their names and ages as a tuple, in alphabetical order.\n",
    "<br>\n",
    "<details><summary>Click for <b>hint</b></summary>\n",
    "<p>\n",
    "The for clause will return each element of the list, each element is a single dictionary object\n",
    "<br>\n",
    "Use the keys to fetch the dictionary values you want for each element\n",
    "<br>\n",
    "To return a tuple, wrap multiple values in parentheses \n",
    "<br>\n",
    "Use an if clause and the value of a key to return only the male students\n",
    "<br>\n",
    "<br>\n",
    "</p>\n",
    "</details>\n"
   ]
  },
  {
   "cell_type": "code",
   "execution_count": 0,
   "metadata": {
    "colab": {},
    "colab_type": "code",
    "id": "xxkKJH5JOUCB"
   },
   "outputs": [],
   "source": [
    "students = [\n",
    "    {'id':1, 'name':'Zack', 'gender':'M', 'age':15},\n",
    "    {'id':2, 'name':'Yamila', 'gender':'F', 'age':14},\n",
    "    {'id':3, 'name':'Xavier', 'gender':'M', 'age': 14},\n",
    "    {'id':4, 'name':'Wendy', 'gender':'F', 'age':15},\n",
    "    {'id':5, 'name':'Victor', 'gender':'M', 'age':15}\n",
    "]\n",
    "\n"
   ]
  }
 ],
 "metadata": {
  "anaconda-cloud": {},
  "colab": {
   "name": "02-01-NumPy-Introduction.ipynb",
   "provenance": []
  },
  "kernelspec": {
   "display_name": "Python 3",
   "language": "python",
   "name": "python3"
  },
  "language_info": {
   "codemirror_mode": {
    "name": "ipython",
    "version": 3
   },
   "file_extension": ".py",
   "mimetype": "text/x-python",
   "name": "python",
   "nbconvert_exporter": "python",
   "pygments_lexer": "ipython3",
   "version": "3.7.3"
  }
 },
 "nbformat": 4,
 "nbformat_minor": 1
}
