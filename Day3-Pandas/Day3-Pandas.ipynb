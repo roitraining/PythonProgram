{
 "cells": [
  {
   "cell_type": "markdown",
   "metadata": {},
   "source": [
    "## A Series is basically a numpy array but with an extra index column attached to it. By default the index is a zero based sequential number"
   ]
  },
  {
   "cell_type": "code",
   "execution_count": null,
   "metadata": {},
   "outputs": [],
   "source": [
    "from pandas import Series\n",
    "data = Series([1,2,3,4])\n",
    "print(data)\n",
    "print(data.values)\n",
    "print(data.index)\n",
    "print(data[1])\n"
   ]
  },
  {
   "cell_type": "markdown",
   "metadata": {},
   "source": [
    "## The index parameter allows you to pass a specific list of indices instead, making the Series sort of like a dictionary object "
   ]
  },
  {
   "cell_type": "code",
   "execution_count": null,
   "metadata": {},
   "outputs": [],
   "source": [
    "data = Series([1,2,3,4], index=['a','b','c','d'])\n",
    "print(data)\n",
    "print(data.values)\n",
    "print(data.index)\n",
    "print(data['c'])"
   ]
  },
  {
   "cell_type": "markdown",
   "metadata": {},
   "source": [
    "## A Series can be created by passing a dictionary dictionary keys are used for Series index "
   ]
  },
  {
   "cell_type": "code",
   "execution_count": null,
   "metadata": {},
   "outputs": [],
   "source": [
    "cities = {'Dublin' : 200000, 'Athlone' : 15000, 'Galway' : 700000}\n",
    "series1 = Series(cities)\n",
    "print (series1)"
   ]
  },
  {
   "cell_type": "markdown",
   "metadata": {},
   "source": [
    "## If the index parameter is passed then only those elements from the dictionary that have matching keys are included, and missing ones have NaN values in the Series "
   ]
  },
  {
   "cell_type": "code",
   "execution_count": null,
   "metadata": {},
   "outputs": [],
   "source": [
    "cities = {'Dublin' : 200000, 'Athlone' : 15000, 'Galway' : 700000}\n",
    "indexes = ['Dublin', 'Athlone', 'Waterford']\n",
    "series2 = Series(cities, index=indexes)\n",
    "print (series2)"
   ]
  },
  {
   "cell_type": "markdown",
   "metadata": {},
   "source": [
    "## isnull() and notnull() return another Series of True or False values depending on whether the value is null or not. Passing that using the [] indexer you can get back just the null or not null values or even replace those values with another"
   ]
  },
  {
   "cell_type": "code",
   "execution_count": null,
   "metadata": {},
   "outputs": [],
   "source": [
    "series2 = Series(cities, index=indexes)\n",
    "print(series2)\n",
    "print()\n",
    "print(series2.isnull())\n",
    "print()\n",
    "print(series2.notnull())\n",
    "print()\n",
    "print(series2[series2.isnull()])\n",
    "print()\n",
    "print(series2[series2.notnull()])\n",
    "\n",
    "series2[series2.isnull()] = 0\n",
    "print(series2)"
   ]
  },
  {
   "cell_type": "markdown",
   "metadata": {
    "colab_type": "text",
    "id": "GAKqDVFoQ_br"
   },
   "source": [
    "## LAB 1: ## \n",
    "\n",
    "### The aim of this exercise is to gain some experience of working with the Pandas Series data structure.\n",
    "\n",
    "#### 1.\tDefine a Series object holding the values 1 to 10.\n",
    "#### 2.\tDisplay the data values of the Series object defined in Step 1.\n",
    "#### 3.\tDisplay the index values of the Series object defined in Step 1.\n",
    "#### 4.\tDefine a new Series object holding the values 1 to 10, with the corresponding index values set ‘a’ through to ‘j’.\n",
    "#### 5.\tDisplay the data values and index of the Series object of Step 4.\n",
    "#### 6.\tAccess the third and fifth elements of the Series objects using their index.\n",
    "#### 7.\tDefine the following dictionary: {'Dublin': 200000, 'Athlone': 15000, 'Galway': 700000}.\n",
    "#### 8.\tDefine the following array: ['Dublin', 'Athlone', 'Waterford'].\n",
    "#### 9.\tNow, construct a Series object using the dictionary in Step 7 and the index in Step 8.\n",
    "#### 10.\tDisplay the Series object defined in Step 9.\n",
    "#### 11.\tUse the Series notnull() and isnull() methods to display which elements are not null and null, respectively, for the Series object defined in Step 9.\n",
    "\n",
    "<br>\n",
    "<details><summary>Click for <b>hint</b></summary>\n",
    "<p>\n",
    "Use a native Python function instead of enumerating the values 1 - 10 by hand or a numpy function might even be better\n",
    "<br>\n",
    "Remember a Python trick that a string can be turned into a list of letters\n",
    "<br>\n",
    "Remember numeric indexes are zero based\n",
    "<br>\n",
    "<br>\n",
    "</p>\n",
    "</details>\n",
    "\n",
    "\n",
    "<details><summary>Click for <b>code</b></summary>\n",
    "<p>\n",
    "\n",
    "```python\n",
    "import pandas as pd\n",
    "s1 = pd.Series(range(1,11))\n",
    "print(s1)\n",
    "print(s1.index)\n",
    "\n",
    "import numpy as np\n",
    "s2 = pd.Series(np.arange(1,11), index=list('abcdefghij'))\n",
    "print(s2)\n",
    "print(s2.index)\n",
    "\n",
    "print(s1[2], s1[4], s2['c'], s2['e'])\n",
    "\n",
    "d1 = {'Dublin': 200000, 'Athlone': 15000, 'Galway': 700000, 'Belfast':None}\n",
    "a1 = ['Dublin', 'Athlone', 'Waterford']\n",
    "\n",
    "s3 = pd.Series(d1, index = a1)\n",
    "print(s3)\n",
    "\n",
    "print(s3.isnull(), s3.notnull())\n",
    "```\n",
    "</p>\n",
    "</details>"
   ]
  },
  {
   "cell_type": "code",
   "execution_count": null,
   "metadata": {
    "colab": {},
    "colab_type": "code",
    "id": "j84Rn717Q_bt"
   },
   "outputs": [],
   "source": []
  },
  {
   "cell_type": "markdown",
   "metadata": {},
   "source": [
    "## You can pass in a dictionary of lists to define a DataFrame in column strips"
   ]
  },
  {
   "cell_type": "code",
   "execution_count": null,
   "metadata": {},
   "outputs": [],
   "source": [
    "from pandas import DataFrame\n",
    "data = {'team' : ['Leicester', 'Manchester City', 'Arsenal'], \n",
    "        'player' : ['Vardy', 'Aguero', 'Sanchez'], \n",
    "        'goals' : [24,22,19]}\n",
    "football = DataFrame(data)\n",
    "print(football)"
   ]
  },
  {
   "cell_type": "markdown",
   "metadata": {},
   "source": [
    "## Or pass in a list of dictionaries to define the DataFrame by rows"
   ]
  },
  {
   "cell_type": "code",
   "execution_count": null,
   "metadata": {},
   "outputs": [],
   "source": [
    "data = [{'team':'Leicester', 'player':'Vardy', 'goals':24}\n",
    "        ,{'team':'Manchester City', 'player':'Aguero', 'goals':22}\n",
    "        ,{'team':'Arsenal', 'player':'Sanchez', 'goals':19}]\n",
    "football = DataFrame(data)\n",
    "print(football)"
   ]
  },
  {
   "cell_type": "markdown",
   "metadata": {},
   "source": [
    "## Just like a Series you can supply the index parameter to override the default zero based numeric values"
   ]
  },
  {
   "cell_type": "code",
   "execution_count": null,
   "metadata": {},
   "outputs": [],
   "source": [
    "from pandas import DataFrame\n",
    "data = {'team' : ['Leicester', 'Manchester City', 'Arsenal'], \n",
    "        'player' : ['Vardy', 'Aguero', 'Sanchez'], \n",
    "        'goals' : [24,22,19]}\n",
    "football = DataFrame(data, index = ['one', 'two', 'three'])\n",
    "print(football)"
   ]
  },
  {
   "cell_type": "markdown",
   "metadata": {},
   "source": [
    "## Just like you can see if a key exists in a dictionary, you can check to see if either a row or column index exists in a DataFrame"
   ]
  },
  {
   "cell_type": "code",
   "execution_count": null,
   "metadata": {},
   "outputs": [],
   "source": [
    "print(football)\n",
    "print('player' in football.columns)\n",
    "print('three' in football.index)"
   ]
  },
  {
   "cell_type": "markdown",
   "metadata": {
    "colab_type": "text",
    "id": "hA6YZ0QRQ_by"
   },
   "source": [
    "## LAB 2: ## \n",
    "\n",
    "### The aim of this exercise is to gain some experience of working with Pandas DataFrame data structure.\n",
    "\n",
    "#### 1.\tTry to encode the following data into a DataFrame object:\n",
    "\n",
    "| id | name | age |\n",
    "| -- | ---- | --- |\n",
    "| 1 | Jack | 30 |\n",
    "| 2 | Mary| 40 |\n",
    "| 3 | Mike | 35 |\n",
    "| 4 | Susan | 25 |\n",
    "\n",
    "\n",
    "<br>\n",
    "<details><summary>Click for <b>hint</b></summary>\n",
    "<p>\n",
    "First create either a list of dictionaries or dictionary of lists to encode the data\n",
    "<br>\n",
    "You want id to be the index column so exclude that from your dictionary and supply it separately<br>\n",
    "<br>\n",
    "<br>\n",
    "</p>\n",
    "</details>\n",
    "\n",
    "\n",
    "<details><summary>Click for <b>code</b></summary>\n",
    "<p>\n",
    "\n",
    "```python\n",
    "import pandas as pd\n",
    "from pandas import DataFrame\n",
    "\n",
    "# Dictionary of lists\n",
    "d = {'name':['Jack', 'Mary', 'Mike', 'Susan'],\n",
    "     'age' : [30, 40, 35, 25]}\n",
    "\n",
    "df = DataFrame(d, index = [1, 2, 3, 4])\n",
    "print(df)\n",
    "\n",
    "# List of Dictionaries\n",
    "d = [{'name' : 'Jack', 'age' : 30}\n",
    "    ,{'name' : 'Mary', 'age' : 40}\n",
    "    ,{'name' : 'Mike', 'age' : 35}\n",
    "    ,{'name' : 'Susan', 'age' : 25}\n",
    "    ]\n",
    "\n",
    "df = DataFrame(d, index = [1, 2, 3, 4])\n",
    "print(df)\n",
    "\n",
    "# Or if you have one big dictionary, you can use list comprehension magic to pull out the id column\n",
    "\n",
    "d = [{'id' : 1, 'name' : 'Jack', 'age' : 30}\n",
    "    ,{'id' : 2, 'name' : 'Mary', 'age' : 40}\n",
    "    ,{'id' : 3, 'name' : 'Mike', 'age' : 35}\n",
    "    ,{'id' : 4, 'name' : 'Susan', 'age' : 25}\n",
    "    ]\n",
    "\n",
    "df = DataFrame(d, index = (x['id'] for x in d), columns = ['name', 'age'])\n",
    "print(df)\n",
    "\n",
    "```\n",
    "</p>\n",
    "</details>"
   ]
  },
  {
   "cell_type": "code",
   "execution_count": null,
   "metadata": {
    "colab": {},
    "colab_type": "code",
    "id": "_nGO6B-FQ_bz"
   },
   "outputs": [],
   "source": []
  },
  {
   "cell_type": "markdown",
   "metadata": {},
   "source": [
    "## Data from Series can be retrieved by index using integers and indexes"
   ]
  },
  {
   "cell_type": "code",
   "execution_count": null,
   "metadata": {},
   "outputs": [],
   "source": [
    "import numpy as np\n",
    "data = Series(np.arange(4.0), index=['a','b','c','d'])\n",
    "print(data)\n",
    "print('item 2', data[2], sep = '\\n')\n",
    "print('item b', data['b'], sep = '\\n')\n",
    "print('items 0:2', data[0:2], sep = '\\n')\n",
    "print('items b & d', data[['b','d']], sep = '\\n')\n",
    "print('True/False', data[[True, False, True, False]], sep = '\\n')\n",
    "print('Less than 2', data < 2, sep = '\\n')\n",
    "print('Data Less than 2', data[data<2], sep = '\\n')\n"
   ]
  },
  {
   "cell_type": "markdown",
   "metadata": {},
   "source": [
    "## The same is true for DataFrames"
   ]
  },
  {
   "cell_type": "code",
   "execution_count": null,
   "metadata": {},
   "outputs": [],
   "source": [
    "data = DataFrame(np.arange(9).reshape((3,3)), index=['a','b','c'], columns=['one','two','three'])\n",
    "print(data)\n",
    "print('three', data['three'], sep = '\\n') # fetchs all rows just column three\n",
    "print('one & three', data[['one', 'three']], sep = '\\n') # note the double brackets\n",
    "\n",
    "print('But if you give it a range it interprets it as a range of rows not columns')\n",
    "print(data[0:2])\n",
    "\n",
    "print(data[[True, False, True]])\n",
    "print(data['two'] > 1)\n",
    "print(data[data['two'] > 1])"
   ]
  },
  {
   "cell_type": "markdown",
   "metadata": {},
   "source": [
    "## All of these fetch the first row and all columns\n"
   ]
  },
  {
   "cell_type": "code",
   "execution_count": null,
   "metadata": {},
   "outputs": [],
   "source": [
    "display(data.ix[0], data.ix['a'], data.loc['a'], data.iloc[0])\n"
   ]
  },
  {
   "cell_type": "markdown",
   "metadata": {},
   "source": [
    "## All of these retrieve the second column for all rows\n"
   ]
  },
  {
   "cell_type": "code",
   "execution_count": null,
   "metadata": {},
   "outputs": [],
   "source": [
    "display(data.ix[:,'two'], data.ix[:,1], data.loc[:,'two'], data.iloc[:,1])"
   ]
  },
  {
   "cell_type": "markdown",
   "metadata": {},
   "source": [
    "## All these would retrieve the first two rows and the second column"
   ]
  },
  {
   "cell_type": "code",
   "execution_count": null,
   "metadata": {},
   "outputs": [],
   "source": [
    "display(data.ix[['a','b'],'two'], data.ix[0:2,1], data.loc['a':'c':,'two'], data.iloc[0:2,1])\n"
   ]
  },
  {
   "cell_type": "markdown",
   "metadata": {},
   "source": [
    "## Like numpy arrays, Series can be operated on but instead of the array sizes needing to match, it uses the index of the Series to decide what matches with what for the math operation"
   ]
  },
  {
   "cell_type": "code",
   "execution_count": null,
   "metadata": {},
   "outputs": [],
   "source": [
    "data1 = Series([1.0, 2.0, 3.0], index=['a','d','e'])\n",
    "data2 = Series([2.0, 3.0, 4.0, 5.0], index=['a','b','c','e'])\n",
    "display(data1 + data2)"
   ]
  },
  {
   "cell_type": "markdown",
   "metadata": {},
   "source": [
    "## DataFrames are just a bunch of Series columns with the same index, so you can also operate on a DataFrame the same way"
   ]
  },
  {
   "cell_type": "code",
   "execution_count": null,
   "metadata": {},
   "outputs": [],
   "source": [
    "data1 = DataFrame(np.arange(9.0).reshape((3,3)), columns=list('abc'), index=['one','two','three'])\n",
    "data2 = DataFrame(np.arange(12.0).reshape((4,3)), columns=list('ace'), index=['one','two','three','four'])\n",
    "display(data1 + data2)"
   ]
  },
  {
   "cell_type": "code",
   "execution_count": null,
   "metadata": {},
   "outputs": [],
   "source": [
    "display(data1)\n",
    "display(data2)\n",
    "display(data1.add(data2, fill_value=0))"
   ]
  },
  {
   "cell_type": "markdown",
   "metadata": {},
   "source": [
    "## You can apply a function to each element at a time with the apply function, similar to the Python map function"
   ]
  },
  {
   "cell_type": "code",
   "execution_count": null,
   "metadata": {},
   "outputs": [],
   "source": [
    "display(data1.apply(lambda x : x * 2))\n"
   ]
  },
  {
   "cell_type": "markdown",
   "metadata": {},
   "source": [
    "## Using the mean function it would apply it to each column instead of each element"
   ]
  },
  {
   "cell_type": "code",
   "execution_count": null,
   "metadata": {},
   "outputs": [],
   "source": [
    "display(data1.apply(np.mean))"
   ]
  },
  {
   "cell_type": "markdown",
   "metadata": {},
   "source": [
    "## That would be the same as supplying the axis = 0 parameter"
   ]
  },
  {
   "cell_type": "code",
   "execution_count": null,
   "metadata": {},
   "outputs": [],
   "source": [
    "display(data1.apply(np.mean, axis = 0))"
   ]
  },
  {
   "cell_type": "markdown",
   "metadata": {},
   "source": [
    "## Axis 1 would yield the row mean instead"
   ]
  },
  {
   "cell_type": "code",
   "execution_count": null,
   "metadata": {},
   "outputs": [],
   "source": [
    "display(data1.apply(np.mean, axis = 1))"
   ]
  },
  {
   "cell_type": "markdown",
   "metadata": {},
   "source": [
    "## For built in functions like mean, sum, etc. we could just directly call them, but if you needed to make a custom function, then you'd need apply"
   ]
  },
  {
   "cell_type": "code",
   "execution_count": null,
   "metadata": {},
   "outputs": [],
   "source": [
    "display(data1.mean())\n",
    "display(data1.mean(axis = 1))\n",
    "\n",
    "display(data1.apply(lambda x : x.max() ** 2  - x.min() ** 2))\n"
   ]
  },
  {
   "cell_type": "markdown",
   "metadata": {},
   "source": [
    "## You can sort by the row index in ascending or descending order"
   ]
  },
  {
   "cell_type": "code",
   "execution_count": null,
   "metadata": {},
   "outputs": [],
   "source": [
    "print(data1.sort_index(ascending=True))\n",
    "print(data1.sort_index(ascending=False))"
   ]
  },
  {
   "cell_type": "markdown",
   "metadata": {},
   "source": [
    "## You can sort by a column value or multiple columns"
   ]
  },
  {
   "cell_type": "code",
   "execution_count": null,
   "metadata": {},
   "outputs": [],
   "source": [
    "data1 = DataFrame(np.arange(9.0).reshape((3,3)), columns=list('abc'), index=['one','two','three'])\n",
    "data1.loc['three','b'] = 1\n",
    "data1.loc['three','c'] = 1\n",
    "\n",
    "display(data1.sort_values(by='b', ascending=True))\n",
    "display(data1.sort_values(by=['b', 'c'], ascending=True))\n",
    "display(data1.sort_values(by=['b', 'c'], ascending=[True, False]))\n"
   ]
  },
  {
   "cell_type": "code",
   "execution_count": null,
   "metadata": {},
   "outputs": [],
   "source": [
    "data2 = DataFrame({'b':[1,4,3,2], 'a':[6,9,20,3], 'c':[7,2,8,15]})\n",
    "display(data2.rank())\n",
    "display(data2.rank(axis = 1))\n"
   ]
  },
  {
   "cell_type": "markdown",
   "metadata": {},
   "source": [
    "## You can read from a file and there are a ton of different parameters to experiment with to get it to read just right"
   ]
  },
  {
   "cell_type": "code",
   "execution_count": null,
   "metadata": {},
   "outputs": [],
   "source": [
    "display(pd.read_csv('sample.csv'))\n",
    "display(pd.read_csv('sample.csv', header = 0))\n",
    "display(pd.read_csv('sample.csv', header = None))\n",
    "display(pd.read_csv('sample.csv', header = None, index_col = 0))\n",
    "display(pd.read_csv('sample.csv', header = None, index_col = 0, names = ['one', 'two', 'three', 'four']))\n"
   ]
  },
  {
   "cell_type": "code",
   "execution_count": null,
   "metadata": {},
   "outputs": [],
   "source": [
    "import json\n",
    "data = json.loads(open('example.json').read())\n",
    "print(data)\n",
    "customers = DataFrame(data['customers'])\n",
    "display(customers)"
   ]
  },
  {
   "cell_type": "markdown",
   "metadata": {},
   "source": [
    "## You can also read from SQL tables, you just need the correct library for the version of SQL you want to connect to"
   ]
  },
  {
   "cell_type": "code",
   "execution_count": null,
   "metadata": {},
   "outputs": [],
   "source": [
    "import sqlite3\n",
    "cn = sqlite3.connect('test.sqlite')\n",
    "curs = cn.cursor()\n",
    "curs.execute(\"create table names (id int, name varchar(20))\")\n",
    "curs.execute(\"insert into names values(1, 'Alice'), (2, 'Bob')\")\n",
    "cn.commit()\n",
    "curs.execute(\"select * from names\")\n",
    "names = curs.fetchall()\n",
    "print(names)\n",
    "names2 = pd.read_sql_query(\"select * from names\", cn)\n",
    "display(names2)\n",
    "cn.close()\n"
   ]
  },
  {
   "cell_type": "code",
   "execution_count": null,
   "metadata": {},
   "outputs": [],
   "source": [
    "data = DataFrame([[1,np.nan],[3,4],[5,np.nan]], columns=['a','b'])\n",
    "print(data.sum())\n",
    "print(data.sum(axis = 1))\n",
    "display(data.describe())"
   ]
  },
  {
   "cell_type": "markdown",
   "metadata": {},
   "source": [
    "## Pandas_datareader is a downloadable package that can fetch stock information"
   ]
  },
  {
   "cell_type": "code",
   "execution_count": null,
   "metadata": {},
   "outputs": [],
   "source": [
    "# ! pip install pandas_datareader\n",
    "import pandas_datareader.data as web\n",
    "\n",
    "# Python code to get the date 90 days ago\n",
    "import datetime \n",
    "tod = datetime.datetime.now()\n",
    "d = datetime.timedelta(days = 90)\n",
    "a = tod - d\n",
    "#print(a)\n",
    "        \n",
    "        \n",
    "display(web.get_data_yahoo('AAPL', start = a)) \n",
    "\n",
    "# List comprehension to get several stocks as a dictionary, so we can turn them into a DataFrame\n",
    "all_data = {ticker: web.get_data_yahoo(ticker, start = a) for ticker in ['AAPL', 'IBM', 'MSFT', 'GOOG']}\n"
   ]
  },
  {
   "cell_type": "code",
   "execution_count": null,
   "metadata": {},
   "outputs": [],
   "source": [
    "stock_close = DataFrame({ticker:data['Adj Close'] for ticker, data in all_data.items()})\n",
    "display(stock_close[:5])\n",
    "display(stock_close.pct_change()[:5])"
   ]
  },
  {
   "cell_type": "code",
   "execution_count": null,
   "metadata": {},
   "outputs": [],
   "source": [
    "display(stock_close.corr())\n",
    "display(stock_close.cov())"
   ]
  },
  {
   "cell_type": "markdown",
   "metadata": {},
   "source": [
    "## Handling missing data"
   ]
  },
  {
   "cell_type": "code",
   "execution_count": null,
   "metadata": {},
   "outputs": [],
   "source": [
    "from numpy import nan as NA\n",
    "data = Series([1,NA,2,3,4,NA])\n",
    "display(data)\n",
    "data1 = data.dropna()\n",
    "display(data1)\n",
    "display(data)\n",
    "data.dropna(inplace = True)\n",
    "display(data)"
   ]
  },
  {
   "cell_type": "markdown",
   "metadata": {},
   "source": [
    "## Works the same for DataFrames, but with some additional options"
   ]
  },
  {
   "cell_type": "code",
   "execution_count": null,
   "metadata": {},
   "outputs": [],
   "source": [
    "data = DataFrame ([[1,2,3],[NA,5,NA],[NA,NA,NA],[10,11,12]])\n",
    "display(data)\n",
    "\n",
    "display(data.dropna(how = 'all')) # works by row and only drops the row if all columns are NaN\n",
    "display(data.dropna(how = 'any')) # works by row and only drops the row if any columns are NaN\n",
    "\n",
    "data1 = DataFrame ([[1,2,NA],[NA,5,NA],[NA,12,NA],[10,11,NA]])\n",
    "display(data1)\n",
    "display(data1.dropna(how = 'all', axis = 1)) # works by col and only drops the col if all rows are NaN\n",
    "display(data1.dropna(how = 'any', axis = 1)) # works by col and only drops the col if any rows are NaN\n"
   ]
  },
  {
   "cell_type": "markdown",
   "metadata": {},
   "source": [
    "## Instead of removing missing data you may wish to replace it with another values"
   ]
  },
  {
   "cell_type": "code",
   "execution_count": null,
   "metadata": {},
   "outputs": [],
   "source": [
    "display(data)\n",
    "filled = data.fillna(0)\n",
    "display(filled)\n",
    "filled = data.fillna({0:10, 1:20})\n",
    "display(filled)\n",
    "filled = data.fillna(data.mean())\n",
    "display(filled)\n",
    "\n"
   ]
  },
  {
   "cell_type": "markdown",
   "metadata": {},
   "source": [
    "## Replacings the Nulls with the row mean is a little trickier, but transposing works to flip to rows and columns so you can calculate the row means as if they were column means"
   ]
  },
  {
   "cell_type": "code",
   "execution_count": null,
   "metadata": {},
   "outputs": [],
   "source": [
    "data = DataFrame ([[1,2,3],[4,5,NA],[6,NA,NA],[10,NA,12]])\n",
    "display(data)\n",
    "filled = data.T.fillna(data.T.mean()).T\n",
    "#filled = data.fillna(data.mean(axis = 1))\n",
    "display(filled)"
   ]
  },
  {
   "cell_type": "markdown",
   "metadata": {
    "colab_type": "text",
    "id": "9qkFs60qQ_b3"
   },
   "source": [
    "\n",
    "## Homework: ## \n",
    "#### 1.\tRead the file categories.csv. \n",
    "#### 2.\tUse the first column as the index column for the DataFrame\n",
    "#### 3.\tPrint the DataFrame, and the first two elements only of the DataFrame\n",
    "#### 4. Load the products.json file\n",
    "#### 5.\tDisplay only the products in category 1\n",
    "#### 6. Display the products from highest to lowest price\n",
    "<br>\n",
    "<details><summary>Click for <b>hint</b></summary>\n",
    "<p>\n",
    "Check the parameters for read_csv to make sure you read the column names right and use the proper column for the index column\n",
    "<br>\n",
    "Remember there are many functions to pull a slice from a DataFrame so experiment until you find the right one\n",
    "<br>\n",
    "The syntax to filter on a condition is odd, but it's in the slides\n",
    "<br>\n",
    "There are several functions to sort, so choose the right one to sort on price\n",
    "<br>\n",
    "<br>\n",
    "</p>\n",
    "</details>\n",
    "\n"
   ]
  },
  {
   "cell_type": "code",
   "execution_count": null,
   "metadata": {
    "colab": {},
    "colab_type": "code",
    "id": "B-b0L4MPQ_cA"
   },
   "outputs": [],
   "source": []
  }
 ],
 "metadata": {
  "colab": {
   "name": "Day3-Labs.ipynb",
   "provenance": []
  },
  "kernelspec": {
   "display_name": "Python 3",
   "language": "python",
   "name": "python3"
  },
  "language_info": {
   "codemirror_mode": {
    "name": "ipython",
    "version": 3
   },
   "file_extension": ".py",
   "mimetype": "text/x-python",
   "name": "python",
   "nbconvert_exporter": "python",
   "pygments_lexer": "ipython3",
   "version": "3.7.3"
  }
 },
 "nbformat": 4,
 "nbformat_minor": 1
}
