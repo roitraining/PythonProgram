{
 "cells": [
  {
   "cell_type": "markdown",
   "metadata": {
    "colab_type": "text",
    "id": "H3G4kxfebf7o"
   },
   "source": [
    "# Introduction to Panda DataFrame"
   ]
  },
  {
   "cell_type": "code",
   "execution_count": null,
   "metadata": {
    "colab": {},
    "colab_type": "code",
    "id": "l5L7paeabf7s"
   },
   "outputs": [],
   "source": [
    "import numpy as np\n",
    "import pandas as pd"
   ]
  },
  {
   "cell_type": "markdown",
   "metadata": {
    "colab_type": "text",
    "id": "AHaw_zULbf7w"
   },
   "source": [
    "### Execute the frame below if there is no output"
   ]
  },
  {
   "cell_type": "code",
   "execution_count": null,
   "metadata": {
    "colab": {},
    "colab_type": "code",
    "id": "hYHHVjhKbf7x",
    "outputId": "2393fe41-3725-476d-b979-ab273a3745df"
   },
   "outputs": [],
   "source": [
    "df= pd.read_csv('./iris-data-index-column.csv', index_col=0, header=0)\n",
    "print(df)"
   ]
  },
  {
   "cell_type": "markdown",
   "metadata": {
    "colab_type": "text",
    "id": "mx_gnrC5bf71"
   },
   "source": [
    "* You can think of a DataFrame as a spreadsheet \n",
    "* Each column is stored as a separate panda series\n",
    "* There are many ways to set up the index (d1, a1,...) and the column name (Sepal-Length, Sepal-Width...)\n",
    "* Floats are stored as float64 and integers are stored as int64\n",
    "\n",
    "### Execute the frame below to see the oficial documentation on a DataFrame."
   ]
  },
  {
   "cell_type": "code",
   "execution_count": null,
   "metadata": {
    "colab": {},
    "colab_type": "code",
    "id": "mXz370IZbf72",
    "outputId": "69d7cdf1-1c7f-475e-fec8-1bd1711e6bc4"
   },
   "outputs": [],
   "source": [
    "help(pd.DataFrame)"
   ]
  },
  {
   "cell_type": "markdown",
   "metadata": {
    "colab_type": "text",
    "id": "m7wldwt6bf79"
   },
   "source": [
    "# Getting the Data"
   ]
  },
  {
   "cell_type": "markdown",
   "metadata": {
    "colab_type": "text",
    "id": "jDUuGzRbbf7-"
   },
   "source": [
    "## Checking for data\n",
    "Execute the next cell to the iris data set is available. You should see:\n",
    "\n",
    "    1. iris-data.csv,\n",
    "    2. iris-data-column.csv\n",
    "    3. iris-data-index-column.csv\n",
    "    4. iris-data.txt\n",
    "    \n",
    "The data set has been corrected. The index column is bogus and was added just for this notebook.\n",
    "\n"
   ]
  },
  {
   "cell_type": "code",
   "execution_count": null,
   "metadata": {
    "colab": {},
    "colab_type": "code",
    "id": "8bU8qFUAbf7_",
    "outputId": "554003de-9c3e-4f93-861b-9a24ff1c24c4"
   },
   "outputs": [],
   "source": [
    "!ls -l iris*"
   ]
  },
  {
   "cell_type": "markdown",
   "metadata": {
    "colab_type": "text",
    "id": "08Y622ECbf8C"
   },
   "source": [
    "## The first step is just taking a quick look at the data\n",
    "In the three cells below, use less to look at each of the csv files.\n",
    "Remember to execute a shell command inside of a notebook—the format is `!<command>`\n",
    "\n"
   ]
  },
  {
   "cell_type": "code",
   "execution_count": null,
   "metadata": {
    "colab": {},
    "colab_type": "code",
    "id": "U0Ke95LEbf8D",
    "outputId": "bf0890f9-e4c9-4f7c-a0cb-a39c1e2dd7d2"
   },
   "outputs": [],
   "source": [
    "!cat iris-data-column.csv"
   ]
  },
  {
   "cell_type": "markdown",
   "metadata": {
    "colab_type": "text",
    "id": "1FOsbD1Xbf8H"
   },
   "source": [
    "* The first line gives the column names."
   ]
  },
  {
   "cell_type": "code",
   "execution_count": null,
   "metadata": {
    "colab": {},
    "colab_type": "code",
    "id": "HP-z1Djlbf8I"
   },
   "outputs": [],
   "source": [
    "!cat iris-data-index-column.csv"
   ]
  },
  {
   "cell_type": "markdown",
   "metadata": {
    "colab_type": "text",
    "collapsed": true,
    "id": "uTOKV0_Nbf8O"
   },
   "source": [
    "* The first column was added to show how to control the index\n",
    "* Notice the column label row starts with a comma (,) to show the first column is the index column\n",
    "* The index column (d1,a1,...) does not have a name in the column row (called a header)"
   ]
  },
  {
   "cell_type": "code",
   "execution_count": null,
   "metadata": {
    "colab": {},
    "colab_type": "code",
    "id": "yK6cgSX0bf8P"
   },
   "outputs": [],
   "source": [
    "!cat iris-data.csv "
   ]
  },
  {
   "cell_type": "markdown",
   "metadata": {
    "colab_type": "text",
    "id": "mVZxd6R5bf8T"
   },
   "source": [
    "This is an extract from the original raw data set—small so that the output can easily be seen.\n",
    "\n",
    "The command to read data from a csv fle is `pd.read_csv`. \n",
    "\n",
    "Execute the next cell.\n",
    "\n",
    "Look at all of the parameters for a minute. Then continue on in this notebook."
   ]
  },
  {
   "cell_type": "code",
   "execution_count": null,
   "metadata": {
    "colab": {},
    "colab_type": "code",
    "id": "ulvvcyNwbf8V"
   },
   "outputs": [],
   "source": [
    "help(pd.read_csv)"
   ]
  },
  {
   "cell_type": "markdown",
   "metadata": {
    "colab_type": "text",
    "id": "25IwxHmPbf8Z"
   },
   "source": [
    "Execute the next cell."
   ]
  },
  {
   "cell_type": "code",
   "execution_count": null,
   "metadata": {
    "colab": {},
    "colab_type": "code",
    "id": "FVry7ZDNbf8b"
   },
   "outputs": [],
   "source": [
    "raw_df = pd.read_csv('./iris-data.csv', header=None)\n",
    "print(raw_df)"
   ]
  },
  {
   "cell_type": "markdown",
   "metadata": {
    "colab_type": "text",
    "id": "wWsu9dM7bf8g"
   },
   "source": [
    "If you do not include the keyword option `header=<row index>` then the first line is taken as the header line and made the column headings.\n",
    "\n",
    "    * header=None\n",
    "        - Columns are numbered starting a 0\n",
    "        - Use the keyword attribute `names=<list of column name>`\n",
    "    * header=0\n",
    "        - First row (counting starts at 0) is the headers) \n",
    "    \n",
    "Execute the cell below.\n",
    "\n",
    "See how you can change the column names.\n",
    "    \n",
    "The column names are stored as a Series in the DataFrame."
   ]
  },
  {
   "cell_type": "code",
   "execution_count": null,
   "metadata": {
    "colab": {},
    "colab_type": "code",
    "id": "3kl4Jw-Lbf8i"
   },
   "outputs": [],
   "source": [
    "raw_df.columns=['Sepal-Length', 'Sepal-Width','Petal-Length','Petal-Width', 'Class']\n",
    "print(raw_df)"
   ]
  },
  {
   "cell_type": "markdown",
   "metadata": {
    "colab_type": "text",
    "id": "6SKm9-brbf8l"
   },
   "source": [
    "If there is an index column you must specify it.  This is done with the keyword `index=<column number`. This is not done very often. \n",
    "\n",
    "The column is stored as a Series. In the DataFrame below I am using the Index as a way to say who the collector of the data way.\n",
    "\n",
    "Execute the cell below.\n"
   ]
  },
  {
   "cell_type": "code",
   "execution_count": null,
   "metadata": {
    "colab": {},
    "colab_type": "code",
    "id": "McIQt2EHbf8m"
   },
   "outputs": [],
   "source": [
    "df=pd.read_csv('./iris-data-index-column.csv', index_col=0, header=0)\n",
    "print(df)"
   ]
  },
  {
   "cell_type": "markdown",
   "metadata": {
    "colab_type": "text",
    "id": "9RfcMpabbf8p"
   },
   "source": [
    "You can change the index labels.\n",
    "\n",
    "Execute the cell below."
   ]
  },
  {
   "cell_type": "code",
   "execution_count": null,
   "metadata": {
    "colab": {},
    "colab_type": "code",
    "id": "ieBK7nSpbf8q"
   },
   "outputs": [],
   "source": [
    "df.index=[1,2,3,4,5,6]\n",
    "print(df)"
   ]
  },
  {
   "cell_type": "markdown",
   "metadata": {
    "colab_type": "text",
    "id": "TVup65Btbf8u"
   },
   "source": [
    "## Saving a DataFrame as a CSV file\n",
    "\n",
    "To save a DataFrame to a CSV file, use `.to_csv`"
   ]
  },
  {
   "cell_type": "code",
   "execution_count": null,
   "metadata": {
    "colab": {},
    "colab_type": "code",
    "id": "FjcOxL0lbf8v"
   },
   "outputs": [],
   "source": [
    "help(df.to_csv)"
   ]
  },
  {
   "cell_type": "code",
   "execution_count": null,
   "metadata": {
    "colab": {},
    "colab_type": "code",
    "id": "qU1_f1Nubf82"
   },
   "outputs": [],
   "source": [
    "df.to_csv(\"./saved_iris.csv\")"
   ]
  },
  {
   "cell_type": "code",
   "execution_count": null,
   "metadata": {
    "colab": {},
    "colab_type": "code",
    "id": "8sjF85v8bf85"
   },
   "outputs": [],
   "source": [
    "!cat saved_iris.csv"
   ]
  },
  {
   "cell_type": "markdown",
   "metadata": {
    "colab_type": "text",
    "id": "o_VrZmMcbf88"
   },
   "source": [
    "* Index\n",
    "    - To write out the index, add the keyword `index=True`\n",
    "    - To not write out the index, leave out keyword\n",
    "* Header\n",
    "    - Use `header=False` if no column labels are to be saved \n",
    "    - Use `header=True` if column labels are to be saved\n",
    "    - Use `header=<list of column names>` to write out different set of column names\n",
    "* Column\n",
    "    - Use `column=<list of column names>` to write out only the selected columns"
   ]
  },
  {
   "cell_type": "markdown",
   "metadata": {
    "colab_type": "text",
    "id": "o0vxGTGJbf8_"
   },
   "source": [
    "There are multiple other ways to create a DataFrame. \n",
    "\n",
    "See [Dataframe](http://pandas.pydata.org/pandas-docs/stable/dsintro.html#dataframe)"
   ]
  }
 ],
 "metadata": {
  "colab": {
   "include_colab_link": true,
   "name": "03-01-Introduction-IO.ipynb",
   "provenance": []
  },
  "kernelspec": {
   "display_name": "Python 3",
   "language": "python",
   "name": "python3"
  },
  "language_info": {
   "codemirror_mode": {
    "name": "ipython",
    "version": 3
   },
   "file_extension": ".py",
   "mimetype": "text/x-python",
   "name": "python",
   "nbconvert_exporter": "python",
   "pygments_lexer": "ipython3",
   "version": "3.7.3"
  }
 },
 "nbformat": 4,
 "nbformat_minor": 1
}
