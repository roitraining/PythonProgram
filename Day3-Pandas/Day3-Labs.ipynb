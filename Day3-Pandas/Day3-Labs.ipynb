{
 "cells": [
  {
   "cell_type": "markdown",
   "metadata": {
    "colab_type": "text",
    "id": "GAKqDVFoQ_br"
   },
   "source": [
    "## LAB 1: ## \n",
    "\n",
    "### The aim of this exercise is to gain some experience of working with the Pandas Series data structure.\n",
    "\n",
    "#### 1.\tDefine a Series object holding the values 1 to 10.\n",
    "#### 2.\tDisplay the data values of the Series object defined in Step 1.\n",
    "#### 3.\tDisplay the index values of the Series object defined in Step 1.\n",
    "#### 4.\tDefine a new Series object holding the values 1 to 10, with the corresponding index values set ‘a’ through to ‘j’.\n",
    "#### 5.\tDisplay the data values and index of the Series object of Step 4.\n",
    "#### 6.\tAccess the third and fifth elements of the Series objects using their index.\n",
    "#### 7.\tDefine the following dictionary: {'Dublin': 200000, 'Athlone': 15000, 'Galway': 700000}.\n",
    "#### 8.\tDefine the following array: ['Dublin', 'Athlone', 'Waterford'].\n",
    "#### 9.\tNow, construct a Series object using the dictionary in Step 7 and the index in Step 8.\n",
    "#### 10.\tDisplay the Series object defined in Step 9.\n",
    "#### 11.\tUse the Series notnull() and isnull() methods to display which elements are not null and null, respectively, for the Series object defined in Step 9.\n",
    "\n",
    "<br>\n",
    "<details><summary>Click for <b>hint</b></summary>\n",
    "<p>\n",
    "Use a native Python function instead of enumerating the values 1 - 10 by hand or a numpy function might even be better\n",
    "<br>\n",
    "Remember a Python trick that a string can be turned into a list of letters\n",
    "<br>\n",
    "Remember numeric indexes are zero based\n",
    "<br>\n",
    "<br>\n",
    "</p>\n",
    "</details>\n",
    "\n",
    "\n",
    "<details><summary>Click for <b>code</b></summary>\n",
    "<p>\n",
    "\n",
    "```python\n",
    "import pandas as pd\n",
    "s1 = pd.Series(range(1,11))\n",
    "print(s1)\n",
    "print(s1.index)\n",
    "\n",
    "import numpy as np\n",
    "s2 = pd.Series(np.arange(1,11), index=list('abcdefghij'))\n",
    "print(s2)\n",
    "print(s2.index)\n",
    "\n",
    "print(s1[2], s1[4], s2['c'], s2['e'])\n",
    "\n",
    "d1 = {'Dublin': 200000, 'Athlone': 15000, 'Galway': 700000, 'Belfast':None}\n",
    "a1 = ['Dublin', 'Athlone', 'Waterford']\n",
    "\n",
    "s3 = pd.Series(d1, index = a1)\n",
    "print(s3)\n",
    "\n",
    "print(s3.isnull(), s3.notnull())\n",
    "```\n",
    "</p>\n",
    "</details>"
   ]
  },
  {
   "cell_type": "code",
   "execution_count": 0,
   "metadata": {
    "colab": {},
    "colab_type": "code",
    "id": "j84Rn717Q_bt"
   },
   "outputs": [],
   "source": []
  },
  {
   "cell_type": "markdown",
   "metadata": {
    "colab_type": "text",
    "id": "hA6YZ0QRQ_by"
   },
   "source": [
    "## LAB 2: ## \n",
    "\n",
    "### The aim of this exercise is to gain some experience of working with Pandas DataFrame data structure.\n",
    "\n",
    "#### 1.\tUse the following dictionary to create a DataFrame:\n",
    "#### a.\t{'team':['Leicester', 'Manchester City', 'Arsenal'], 'player':['Vardy', 'Aguero', 'Sanchez'],'goals':[24,22,19]}\n",
    "#### 2.\tDisplay the above DataFrame to the console.\n",
    "#### 3.\tWhat values are assigned for the index and columns?\n",
    "#### 4.\tUse the dictionary from Step 1 and create a second DataFrame with index values 'one', 'two', 'three', respectively, and columns team, player, goals, played. Display the DataFrame to the console.\n",
    "\n",
    "<br>\n",
    "<details><summary>Click for <b>hint</b></summary>\n",
    "<p>\n",
    "Use a native Python function instead of enumerating the values 1 - 10 by hand\n",
    "<br>\n",
    "Remember a Python trick that a string can be turned into a list of letters\n",
    "<br>\n",
    "Remember numeric indexes are zero based\n",
    "<br>\n",
    "<br>\n",
    "</p>\n",
    "</details>\n",
    "\n",
    "\n",
    "<details><summary>Click for <b>code</b></summary>\n",
    "<p>\n",
    "\n",
    "```python\n",
    "import pandas as pd\n",
    "s1 = pd.Series(range(1,11))\n",
    "print(s1)\n",
    "print(s1.index)\n",
    "\n",
    "s2 = pd.Series(range(1,11), index=list('abcdefghij'))\n",
    "print(s2)\n",
    "print(s2.index)\n",
    "\n",
    "print(s1[2], s1[4], s2['c'], s2['e'])\n",
    "\n",
    "d1 = {'Dublin': 200000, 'Athlone': 15000, 'Galway': 700000, 'Belfast':None}\n",
    "a1 = ['Dublin', 'Athlone', 'Waterford']\n",
    "\n",
    "s3 = pd.Series(d1, index = a1)\n",
    "print(s3)\n",
    "\n",
    "print(s3.isnull(), s3.notnull())\n",
    "```\n",
    "</p>\n",
    "</details>"
   ]
  },
  {
   "cell_type": "code",
   "execution_count": 0,
   "metadata": {
    "colab": {},
    "colab_type": "code",
    "id": "_nGO6B-FQ_bz"
   },
   "outputs": [],
   "source": [
    "d2 = {'team':['Leicester', 'Manchester City', 'Arsenal'], 'player':['Vardy', 'Aguero', 'Sanchez'],'goals':[24,22,19]}\n",
    "df1 = pd.DataFrame(d2)\n",
    "print(df2)\n",
    "\n",
    "df2 = pd.DataFrame(d2, index=['one','two','three'], columns=['team','player','goals','played'])\n",
    "print(df2)"
   ]
  },
  {
   "cell_type": "markdown",
   "metadata": {
    "colab_type": "text",
    "id": "9qkFs60qQ_b3"
   },
   "source": [
    "## Homework: ## \n",
    "#### 1.\tRead the file categories.csv. \n",
    "#### 2.\tUse the first column as the index column for the DataFrame\n",
    "#### 3.\tPrint the DataFrame, and the first two elements only of the DataFrame\n",
    "#### 4. Load the products.json file\n",
    "#### 5.\tDisplay only the products in category 1\n",
    "#### 6. Display the products from highest to lowest price\n",
    "<br>\n",
    "<details><summary>Click for <b>hint</b></summary>\n",
    "<p>\n",
    "Check the parameters for read_csv to make sure you read the column names right and use the proper column for the index column\n",
    "<br>\n",
    "Remember there are many functions to pull a slice from a DataFrame so experiment until you find the right one\n",
    "<br>\n",
    "The syntax to filter on a condition is odd, but it's in the slides\n",
    "<br>\n",
    "There are several functions to sort, so choose the right one to sort on price\n",
    "<br>\n",
    "<br>\n",
    "</p>\n",
    "</details>\n",
    "\n"
   ]
  },
  {
   "cell_type": "code",
   "execution_count": 0,
   "metadata": {
    "colab": {},
    "colab_type": "code",
    "id": "B-b0L4MPQ_cA"
   },
   "outputs": [],
   "source": []
  }
 ],
 "metadata": {
  "colab": {
   "name": "Day3-Labs.ipynb",
   "provenance": []
  },
  "kernelspec": {
   "display_name": "Python 3",
   "language": "python",
   "name": "python3"
  },
  "language_info": {
   "codemirror_mode": {
    "name": "ipython",
    "version": 3
   },
   "file_extension": ".py",
   "mimetype": "text/x-python",
   "name": "python",
   "nbconvert_exporter": "python",
   "pygments_lexer": "ipython3",
   "version": "3.7.3"
  }
 },
 "nbformat": 4,
 "nbformat_minor": 1
}
