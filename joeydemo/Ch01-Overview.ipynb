{
 "cells": [
  {
   "cell_type": "markdown",
   "metadata": {},
   "source": [
    "## Here is a list of numbers\n",
    "### You can add and change elements as well as extract elements individually or in slices"
   ]
  },
  {
   "cell_type": "code",
   "execution_count": 2,
   "metadata": {
    "colab": {},
    "colab_type": "code",
    "id": "spMTebWpr0_g"
   },
   "outputs": [
    {
     "name": "stdout",
     "output_type": "stream",
     "text": [
      "[4, 2, 10, 12, 3, 7, 12]\n",
      "10\n",
      "[10, 12, 3, 7, 12]\n",
      "[4, 2]\n",
      "[10, 12, 3]\n"
     ]
    }
   ],
   "source": [
    "numbers = [4, 2, 10, 12, 3, 7, 12]\n",
    "# numbers.append(20)\n",
    "# numbers[0] = 5\n",
    "# print(numbers)\n",
    "# numbers.pop()\n",
    "print(numbers)\n",
    "print(numbers[2])\n",
    "print(numbers[2:])\n",
    "print(numbers[:2])\n",
    "print(numbers[2:-2])"
   ]
  },
  {
   "cell_type": "code",
   "execution_count": 3,
   "metadata": {},
   "outputs": [
    {
     "name": "stdout",
     "output_type": "stream",
     "text": [
      "[4, 2, 10, 12, 3, 7, 12]\n"
     ]
    }
   ],
   "source": [
    "print(numbers)"
   ]
  },
  {
   "cell_type": "markdown",
   "metadata": {},
   "source": [
    "## Sets can also be used instead and they automatically remove duplicate values"
   ]
  },
  {
   "cell_type": "code",
   "execution_count": 8,
   "metadata": {
    "colab": {},
    "colab_type": "code",
    "id": "EUgLKp2Kr0_k"
   },
   "outputs": [
    {
     "name": "stdout",
     "output_type": "stream",
     "text": [
      "{1, 2, 3, 4, 5, 6}\n",
      "{1}\n",
      "{2, 3, 5, 6}\n",
      "{1, 2, 3, 4, 5, 6, 7}\n"
     ]
    }
   ],
   "source": [
    "numbers = {3, 2, 1, 1, 4, 5, 6, 3}\n",
    "print(numbers)\n",
    "\n",
    "others = {1, 4, 7}\n",
    "numbers2 = [3, 2, 1]\n",
    "\n",
    "print(set(numbers2).intersection(others))\n",
    "#print(numbers.intersection(others))\n",
    "print(numbers.difference(others))\n",
    "print(numbers.union(others))\n",
    "\n",
    "# numbers2 = set(numbers)\n",
    "# print(numbers2)"
   ]
  },
  {
   "cell_type": "code",
   "execution_count": 23,
   "metadata": {},
   "outputs": [
    {
     "name": "stdout",
     "output_type": "stream",
     "text": [
      "Alex\n",
      "{'COM': 'Commando', 'MKT': 'Marketing', 'PRG': 'Programming'}\n",
      "Programming\n",
      "[[1, 'joey', 'instructor'], [2, 'mary', 'manager']]\n",
      "[1, 'joey', 'instructor']\n",
      "joey\n",
      "{'id': 2, 'name': 'mary', 'title': 'manager'}\n",
      "mary\n",
      "joey\n",
      "[1, 'joey', 'C++']\n"
     ]
    }
   ],
   "source": [
    "names = ['Sri', 'Alex', 'Martha']\n",
    "print(names[1])\n",
    "\n",
    "# heterogenous \n",
    "costs = [10, 12.3, 10.02, 'ten']\n",
    "\n",
    "skills = {'COM':\"Communications\",\n",
    "          'MKT':'Marketing',\n",
    "          'PRG':'Programming',\n",
    "           'COM':'Commando'}\n",
    "print(skills)\n",
    "products = {'drinks', 'candies', 'cookies'}\n",
    "print(skills['PRG'])\n",
    "\n",
    "\n",
    "employees = [ [1, 'joey', 'instructor'], [2, 'mary', 'manager']]\n",
    "print(employees)\n",
    "print(employees[0])\n",
    "print(employees[0][1])\n",
    "\n",
    "employees = [ {'id':1, 'name':'joey', 'title':'instructor', 'skills': ['C++','Python','SQL']}\n",
    "             , {'id':2, 'name':'mary', 'title':'manager'}]\n",
    "print(employees[1])\n",
    "print(employees[1]['name'])\n",
    "\n",
    "tuple1 = (1, 'joey', 'C++')\n",
    "print(tuple1[1])\n",
    "list2 = list(tuple1)\n",
    "print(list2)"
   ]
  },
  {
   "cell_type": "markdown",
   "metadata": {},
   "source": [
    "## Dictionaries use a pair of keys and values to store data"
   ]
  },
  {
   "cell_type": "code",
   "execution_count": 19,
   "metadata": {
    "colab": {},
    "colab_type": "code",
    "id": "Lyc--3KPr0_o"
   },
   "outputs": [
    {
     "name": "stdout",
     "output_type": "stream",
     "text": [
      "Adam\n",
      "{'firstname': 'Adam', 'lastname': 'Jones', 'age': 50, 'gender': 'M'}\n",
      "dict_keys(['firstname', 'lastname', 'age', 'gender'])\n",
      "dict_values(['Adam', 'Jones', 50, 'M'])\n"
     ]
    }
   ],
   "source": [
    "record = {'firstname':'Adam', 'lastname':'Smith', 'age':50}\n",
    "print(record['firstname'])\n",
    "record['lastname'] = 'Jones'\n",
    "record['gender'] = 'M'\n",
    "print(record)\n",
    "print(record.keys())\n",
    "print(record.values())\n",
    "# print(record.items())\n",
    "# del record['gender']"
   ]
  },
  {
   "cell_type": "markdown",
   "metadata": {},
   "source": [
    "## List comprehensions can be used as a shortcut way of doing a loop on the elements of a collection and are often more efficient"
   ]
  },
  {
   "cell_type": "code",
   "execution_count": 26,
   "metadata": {},
   "outputs": [
    {
     "name": "stdout",
     "output_type": "stream",
     "text": [
      "[2, 4, 6, 8]\n",
      "[2, 4, 6, 8]\n",
      "['SRI', 'ALEX', 'MARTHA']\n"
     ]
    }
   ],
   "source": [
    "x = [1, 2, 3, 4]\n",
    "y = []\n",
    "for e in x:\n",
    "    y.append(e * 2)\n",
    "    \n",
    "print(y)\n",
    "\n",
    "\n",
    "y = [e * 2 for e in x]\n",
    "newnames = [n.upper() for n in names]\n",
    "\n",
    "print(y)\n",
    "print(newnames)"
   ]
  },
  {
   "cell_type": "code",
   "execution_count": 27,
   "metadata": {
    "colab": {},
    "colab_type": "code",
    "id": "RKWnuO0QOUBj"
   },
   "outputs": [
    {
     "name": "stdout",
     "output_type": "stream",
     "text": [
      "[2, 4, 6, 8]\n",
      "[2, 4, 4]\n"
     ]
    }
   ],
   "source": [
    "print([x * 2 for x in [1, 2, 3, 4]])\n",
    "print([x for x in [1, 2, 3, 4, 4] if x % 2 == 0])"
   ]
  },
  {
   "cell_type": "markdown",
   "metadata": {
    "colab_type": "text",
    "id": "vr6isEXSr0_r"
   },
   "source": [
    "## LAB: ## \n",
    "### Using the numbers list we created above, multiply each number by 5.\n",
    "### Next, only multiply the numbers less than 5 by 10.\n",
    "<br>\n",
    "<details><summary>Click for <b>hint</b></summary>\n",
    "<p>\n",
    "Try writing the for part first and use a simple name for the range variable that takes on each value one at a time\n",
    "<br>\n",
    "Put the calculation using the range variable in front of the for\n",
    "<br>\n",
    "If clause follows the for clause and can be used to make a conditional like a WHERE clause does in SQL\n",
    "<br>\n",
    "<br>\n",
    "</p>\n",
    "</details>\n",
    "\n",
    "<details><summary>Click for <b>code</b></summary>\n",
    "<p>\n",
    "\n",
    "```python\n",
    "print([n * 5 for n in numbers])\n",
    "print([n * 5 for n in numbers if n < 10])\n",
    "```\n",
    "</p>\n",
    "</details>"
   ]
  },
  {
   "cell_type": "code",
   "execution_count": 33,
   "metadata": {
    "colab": {},
    "colab_type": "code",
    "id": "RCQg_s7TOUBn"
   },
   "outputs": [
    {
     "name": "stdout",
     "output_type": "stream",
     "text": [
      "[20, 10, 50, 60, 15, 35, 60]\n",
      "[20, 10, 50, 60, 15, 35, 60]\n",
      "{35, 10, 15, 50, 20, 60}\n",
      "{4: 20, 2: 10, 10: 50, 12: 60, 3: 15, 7: 35}\n",
      "60\n",
      "[20, 10, 15, 35]\n"
     ]
    }
   ],
   "source": [
    "numbers = [4, 2, 10, 12, 3, 7, 12]\n",
    "x1 = [5 * n for n in numbers]\n",
    "print(x1)\n",
    "print([5 * n for n in numbers])\n",
    "print({5 * n for n in numbers})\n",
    "d1 = {n : 5 * n for n in numbers}\n",
    "print(d1)\n",
    "print(d1[12])\n",
    "x2 = [5 * n for n in numbers if n < 10]\n",
    "print(x2)\n",
    "# SELECT 5 * n from numbers as n\n",
    "# SELECT 5 * n from numbers as n WHERE n < 10\n"
   ]
  },
  {
   "cell_type": "markdown",
   "metadata": {},
   "source": [
    "## Functions can be written with the def statement"
   ]
  },
  {
   "cell_type": "code",
   "execution_count": 34,
   "metadata": {
    "colab": {},
    "colab_type": "code",
    "id": "QMsvcGztr0_s"
   },
   "outputs": [
    {
     "name": "stdout",
     "output_type": "stream",
     "text": [
      "20\n"
     ]
    }
   ],
   "source": [
    "def double(x):\n",
    "    return x * 2\n",
    "\n",
    "print(double(10))\n"
   ]
  },
  {
   "cell_type": "markdown",
   "metadata": {},
   "source": [
    "## If a function can be represented in a single line to take parameters and return a value, a lambda is another way of expressing the function\n",
    "### They have the advantage that you can embed them directly as a parameter to another function"
   ]
  },
  {
   "cell_type": "code",
   "execution_count": 35,
   "metadata": {
    "colab": {},
    "colab_type": "code",
    "id": "G6P244BsOUBu"
   },
   "outputs": [
    {
     "name": "stdout",
     "output_type": "stream",
     "text": [
      "30\n"
     ]
    }
   ],
   "source": [
    "triple = lambda x : x * 3\n",
    "print(triple(10))\n"
   ]
  },
  {
   "cell_type": "markdown",
   "metadata": {},
   "source": [
    "## map is a function that takes another function as the first parameter and a collection as the second. It applies the passed in function to each element of the collection returning a generator function.\n",
    "### lambdas are often used with functions like map when you need to make an on the fly function"
   ]
  },
  {
   "cell_type": "code",
   "execution_count": 47,
   "metadata": {
    "colab": {},
    "colab_type": "code",
    "id": "8z3Etj_kOUBx"
   },
   "outputs": [
    {
     "name": "stdout",
     "output_type": "stream",
     "text": [
      "<generator object <genexpr> at 0x7f56480f8048>\n",
      "20\n",
      "4\n",
      "60\n",
      "8\n",
      "10\n",
      "[]\n",
      "<map object at 0x7f56481bbbe0>\n",
      "[20, 4, 60, 8, 10]\n",
      "[20, 4, 60, 8, 10]\n",
      "[50, 10, 150, 20, 25]\n",
      "[50, 10, 150, 20, 25]\n"
     ]
    }
   ],
   "source": [
    "data = [10, 2, 30, 4, 5]\n",
    "data1 = (double(x) for x in data)\n",
    "print(data1)\n",
    "for e in data1:\n",
    "    print(e)\n",
    "    \n",
    "print(list(data1))\n",
    "print(map(double, data))\n",
    "print(list(map(double, data)))\n",
    "print([double(x) for x in data])\n",
    "print(list(map(lambda x : x * 5, data)))\n",
    "print([x * 5 for x in data])"
   ]
  },
  {
   "cell_type": "markdown",
   "metadata": {},
   "source": [
    "## filter is another function similar to map, that will take a function that returns a bool as the first parameter and apply it to the elements of the collection returning only those elements for which the function returns true"
   ]
  },
  {
   "cell_type": "code",
   "execution_count": 56,
   "metadata": {
    "colab": {},
    "colab_type": "code",
    "id": "s0GQ83l9OUB0"
   },
   "outputs": [
    {
     "name": "stdout",
     "output_type": "stream",
     "text": [
      "[2, 4, 5]\n",
      "<filter object at 0x7f5648110860>\n",
      "[2, 4, 5]\n",
      "[2, 4, 5]\n",
      "[50, 40, 20]\n"
     ]
    }
   ],
   "source": [
    "def small(x):\n",
    "    return x < 10\n",
    "\n",
    "print(list(filter(small, data)))\n",
    "\n",
    "print(filter(lambda x : x < 10, data))\n",
    "print(list(filter(lambda x : x < 10, data)))\n",
    "print([x for x in data if x < 10])\n",
    "\n",
    "print(list(sorted(map(lambda x : x * 10, filter(lambda x : x < 10, data)), reverse = True)))\n"
   ]
  },
  {
   "cell_type": "markdown",
   "metadata": {},
   "source": [
    "## sorted is another example of a function that takes a function or lambda which can be used to provide a custom sort function on a collection"
   ]
  },
  {
   "cell_type": "code",
   "execution_count": 42,
   "metadata": {
    "colab": {},
    "colab_type": "code",
    "id": "KAB5F3YPOUB3"
   },
   "outputs": [
    {
     "name": "stdout",
     "output_type": "stream",
     "text": [
      "[2, 4, 5, 7, 10, 30]\n",
      "[30, 10, 7, 5, 4, 2]\n",
      "[2, 4, 10, 30, 5, 7]\n"
     ]
    }
   ],
   "source": [
    "data = [10, 2, 7, 30, 4, 5]\n",
    "print(sorted(data))\n",
    "print(sorted(data, reverse=True))\n",
    "\n",
    "# def evenfirst(x):\n",
    "#     return (x % 2, x)\n",
    "\n",
    "# print(sorted(data, key = evenfirst))\n",
    "print(sorted(data, key = lambda x : (x % 2, x)))"
   ]
  },
  {
   "cell_type": "markdown",
   "metadata": {
    "colab_type": "text",
    "id": "znQNoz2iOUB7"
   },
   "source": [
    "## LAB: ## \n",
    "### Given the list of names below, sort them on the length of the name so the shortest names are first.\n",
    "### Try to sort them alphabetically regardless of case.\n",
    "<br>\n",
    "<details><summary>Click for <b>hint</b></summary>\n",
    "<p>\n",
    "Create a lambda function using the built in len function\n",
    "<br>\n",
    "Create a lambda function using a method built into strings that can ignore the case\n",
    "<br>\n",
    "<br>\n",
    "</p>\n",
    "</details>\n",
    "\n",
    "<details><summary>Click for <b>code</b></summary>\n",
    "<p>\n",
    "\n",
    "```python\n",
    "print(sorted(names))\n",
    "print(sorted(names, key = lambda x : len(x)))\n",
    "print(sorted(names, key = lambda x : x.upper()))\n",
    "```\n",
    "</p>\n",
    "</details>"
   ]
  },
  {
   "cell_type": "code",
   "execution_count": null,
   "metadata": {
    "colab": {},
    "colab_type": "code",
    "id": "Fx0Axc_yOUB9"
   },
   "outputs": [],
   "source": [
    "names = ['bob', 'Linda', 'Adam', 'betty']\n",
    "\n"
   ]
  },
  {
   "cell_type": "markdown",
   "metadata": {
    "colab_type": "text",
    "id": "9ZxXTftVOUCA"
   },
   "source": [
    "## HOMEWORK: ## \n",
    "### Given the list of names below, print out all the names in alphabetical order.\n",
    "### Print just the male students showing their names and ages as a tuple, in alphabetical order.\n",
    "<br>\n",
    "<details><summary>Click for <b>hint</b></summary>\n",
    "<p>\n",
    "The for clause will return each element of the list, each element is a single dictionary object\n",
    "<br>\n",
    "Use the keys to fetch the dictionary values you want for each element\n",
    "<br>\n",
    "To return a tuple, wrap multiple values in parentheses \n",
    "<br>\n",
    "Use an if clause and the value of a key to return only the male students\n",
    "<br>\n",
    "<br>\n",
    "</p>\n",
    "</details>\n"
   ]
  },
  {
   "cell_type": "code",
   "execution_count": null,
   "metadata": {
    "colab": {},
    "colab_type": "code",
    "id": "xxkKJH5JOUCB"
   },
   "outputs": [],
   "source": [
    "students = [\n",
    "    {'id':1, 'name':'Zack', 'gender':'M', 'age':15},\n",
    "    {'id':2, 'name':'Yamila', 'gender':'F', 'age':14},\n",
    "    {'id':3, 'name':'Xavier', 'gender':'M', 'age': 14},\n",
    "    {'id':4, 'name':'Wendy', 'gender':'F', 'age':15},\n",
    "    {'id':5, 'name':'Victor', 'gender':'M', 'age':15}\n",
    "]\n",
    "\n"
   ]
  },
  {
   "cell_type": "code",
   "execution_count": null,
   "metadata": {},
   "outputs": [],
   "source": []
  }
 ],
 "metadata": {
  "anaconda-cloud": {},
  "colab": {
   "name": "02-01-NumPy-Introduction.ipynb",
   "provenance": []
  },
  "kernelspec": {
   "display_name": "Python 3",
   "language": "python",
   "name": "python3"
  },
  "language_info": {
   "codemirror_mode": {
    "name": "ipython",
    "version": 3
   },
   "file_extension": ".py",
   "mimetype": "text/x-python",
   "name": "python",
   "nbconvert_exporter": "python",
   "pygments_lexer": "ipython3",
   "version": "3.7.3"
  }
 },
 "nbformat": 4,
 "nbformat_minor": 1
}
