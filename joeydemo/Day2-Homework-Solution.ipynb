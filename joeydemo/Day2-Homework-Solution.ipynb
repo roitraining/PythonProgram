{
 "cells": [
  {
   "cell_type": "markdown",
   "metadata": {},
   "source": [
    "## Homework: ## \n",
    "#### 1.\tGenerate 20 random integers between 1 and 100\n",
    "#### 2.\tPrint the mean of those numbers\n",
    "#### 3.\tTurn those 20 numbers into a 4 x 5 matrix\n",
    "#### 4. Transpose the matrix into a new variable\n",
    "#### 5.\tFind the dot product of the matrix and its transposed version\n",
    "#### 6. Solve the simultaneous equations:\n",
    "     10x + 20y = 50\n",
    "     30x + 40y = 60\n",
    "<br>\n",
    "<details><summary>Click for <b>hint</b></summary>\n",
    "<p>\n",
    "Look at help on np.random. There are more choices than what we did in the slides.\n",
    "<br>\n",
    "To solve simultaneous equations look at np.linalg.solve\n",
    "<br>\n",
    "<br>\n",
    "</p>\n",
    "</details>\n",
    "\n"
   ]
  },
  {
   "cell_type": "code",
   "execution_count": 11,
   "metadata": {},
   "outputs": [
    {
     "name": "stdout",
     "output_type": "stream",
     "text": [
      "[42 72  1 30 15 10 19 35 40 54 42 68 21 87  3 67 42 56 14 20]\n",
      "[38 13 73 10 76  6 80 65 17  2 77 72  7 26 51 21 19 85 12 29]\n",
      "38.95\n",
      "[[38 13 73 10 76]\n",
      " [ 6 80 65 17  2]\n",
      " [77 72  7 26 51]\n",
      " [21 19 85 12 29]]\n",
      "[[38 13 73 10]\n",
      " [76  6 80 65]\n",
      " [17  2 77 72]\n",
      " [ 7 26 51 21]\n",
      " [19 85 12 29]]\n",
      "[[38  6 77 21]\n",
      " [13 80 72 19]\n",
      " [73 65  7 85]\n",
      " [10 17 26 12]\n",
      " [76  2 51 29]]\n",
      "[[12818  6335  8509  9574]\n",
      " [ 6335 10954  7221  7433]\n",
      " [ 8509  7221 14439  5371]\n",
      " [ 9574  7433  5371  9012]]\n",
      "[-4.   4.5]\n"
     ]
    }
   ],
   "source": [
    "import numpy as np\n",
    "np.random.seed(1)\n",
    "a0 = np.random.uniform(1, 100, 20).astype(int)\n",
    "print(a0)\n",
    "\n",
    "np.random.seed(1)\n",
    "a1 = np.random.randint(1, 100, 20)\n",
    "print(a1)\n",
    "\n",
    "print(a1.mean())\n",
    "\n",
    "a2 = a1.reshape((4, 5))\n",
    "print(a2)\n",
    "\n",
    "print(a1.reshape((5, 4)))\n",
    "\n",
    "a3 = a2.T\n",
    "print(a3)\n",
    "\n",
    "print(a2.dot(a3))\n",
    "\n",
    "x1 = np.array([[10, 20],[30, 40]])\n",
    "y1 = np.array([50, 60])\n",
    "print(np.linalg.solve(x1, y1))"
   ]
  },
  {
   "cell_type": "code",
   "execution_count": null,
   "metadata": {},
   "outputs": [],
   "source": []
  },
  {
   "cell_type": "code",
   "execution_count": null,
   "metadata": {},
   "outputs": [],
   "source": []
  }
 ],
 "metadata": {
  "kernelspec": {
   "display_name": "Python 3",
   "language": "python",
   "name": "python3"
  },
  "language_info": {
   "codemirror_mode": {
    "name": "ipython",
    "version": 3
   },
   "file_extension": ".py",
   "mimetype": "text/x-python",
   "name": "python",
   "nbconvert_exporter": "python",
   "pygments_lexer": "ipython3",
   "version": "3.7.3"
  }
 },
 "nbformat": 4,
 "nbformat_minor": 2
}
