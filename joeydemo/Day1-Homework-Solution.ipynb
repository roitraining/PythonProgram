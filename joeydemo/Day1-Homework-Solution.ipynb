{
 "cells": [
  {
   "cell_type": "markdown",
   "metadata": {
    "colab_type": "text",
    "id": "view-in-github"
   },
   "source": [
    "<a href=\"https://colab.research.google.com/github/roitraining/PythonML/blob/master/Ch02-Numpy/02-01-NumPy-Introduction.ipynb\" target=\"_parent\"><img src=\"https://colab.research.google.com/assets/colab-badge.svg\" alt=\"Open In Colab\"/></a>"
   ]
  },
  {
   "cell_type": "markdown",
   "metadata": {},
   "source": [
    "## HOMEWORK: ## \n",
    "### Given the list of names below, print out all the names in alphabetical order\n",
    "### Print just the male students showing their names and ages as a tuple, in alphabetical order\n",
    "<br>\n",
    "<details><summary>Click for <b>hint</b></summary>\n",
    "<p>\n",
    "The for clause will return each element of the list, each element is a single dictionary object\n",
    "<br>\n",
    "Use the keys to fetch the dictionary values you want for each element\n",
    "<br>\n",
    "To return a tuple, wrap multiple values in parentheses \n",
    "<br>\n",
    "Use an if clause and the value of a key to return only the male students\n",
    "<br>\n",
    "<br>\n",
    "</p>\n",
    "</details>\n"
   ]
  },
  {
   "cell_type": "code",
   "execution_count": 16,
   "metadata": {},
   "outputs": [
    {
     "name": "stdout",
     "output_type": "stream",
     "text": [
      "['Victor', 'Wendy', 'Xavier', 'Yamila', 'Zack']\n",
      "['Zack', 'Wendy', 'Victor', 'Xavier', 'Yamila']\n",
      "[{'name': 'Victor', 'age': 15}, {'name': 'Xavier', 'age': 14}, {'name': 'Zack', 'age': 15}]\n"
     ]
    }
   ],
   "source": [
    "students = [\n",
    "    {'id':1, 'name':'Zack', 'gender':'M', 'age':15},\n",
    "    {'id':2, 'name':'Yamila', 'gender':'F', 'age':14},\n",
    "    {'id':3, 'name':'Xavier', 'gender':'M', 'age': 14},\n",
    "    {'id':4, 'name':'Wendy', 'gender':'F', 'age':15},\n",
    "    {'id':5, 'name':'Victor', 'gender':'M', 'age':15}\n",
    "]\n",
    "\n",
    "# for s in students:\n",
    "#     print(s['name'])\n",
    "    \n",
    "# print([s['name'] for s in students])\n",
    "    \n",
    "print(sorted([student['name'] for student in students]))\n",
    "print(sorted([student['name'] for student in students], key = lambda x : (len(x), x)))\n",
    "\n",
    "\n",
    "# print([(student['name'], student['age']) for student in students if student['gender'] == 'M'])\n",
    "# print([{'name':student['name'], 'age':student['age']} for student in students if student['gender'] == 'M'])\n",
    "# print(sorted([(student['name'], student['age']) for student in students if student['gender'] == 'M']))\n",
    "print(sorted([{'name':student['name'], 'age':student['age']} for student in students if student['gender'] == 'M'], \n",
    "             key = lambda x : x['name']))\n",
    "\n"
   ]
  },
  {
   "cell_type": "code",
   "execution_count": null,
   "metadata": {},
   "outputs": [],
   "source": []
  }
 ],
 "metadata": {
  "anaconda-cloud": {},
  "colab": {
   "include_colab_link": true,
   "name": "02-01-NumPy-Introduction.ipynb",
   "provenance": []
  },
  "kernelspec": {
   "display_name": "Python 3",
   "language": "python",
   "name": "python3"
  },
  "language_info": {
   "codemirror_mode": {
    "name": "ipython",
    "version": 3
   },
   "file_extension": ".py",
   "mimetype": "text/x-python",
   "name": "python",
   "nbconvert_exporter": "python",
   "pygments_lexer": "ipython3",
   "version": "3.7.3"
  }
 },
 "nbformat": 4,
 "nbformat_minor": 1
}
