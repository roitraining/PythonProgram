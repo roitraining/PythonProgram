{
 "cells": [
  {
   "cell_type": "markdown",
   "metadata": {},
   "source": [
    "## Homework: ## \n",
    "#### 1.\tGenerate 20 random integers between 1 and 100\n",
    "#### 2.\tPrint the mean of those numbers\n",
    "#### 3.\tTurn those 20 numbers into a 4 x 5 matrix\n",
    "#### 4. Transpose the matrix into a new variable\n",
    "#### 5.\tFind the dot product of the matrix and its transposed version\n",
    "#### 6. Solve the simultaneous equations:\n",
    "     10x + 20y = 50\n",
    "     30x + 40y = 60\n",
    "<br>\n",
    "<details><summary>Click for <b>hint</b></summary>\n",
    "<p>\n",
    "Look at help on np.random. There are more choices than what we did in the slides.\n",
    "<br>\n",
    "To solve simultaneous equations look at np.linalg.solve\n",
    "<br>\n",
    "<br>\n",
    "</p>\n",
    "</details>\n",
    "\n"
   ]
  },
  {
   "cell_type": "code",
   "execution_count": null,
   "metadata": {},
   "outputs": [],
   "source": [
    "import numpy as np\n",
    "a1 = np.random.randint(1, 100, 20)\n",
    "print(a1)\n",
    "\n",
    "print(a1.mean())\n",
    "\n",
    "a2 = a1.reshape((4,5))\n",
    "print(a2)\n",
    "\n",
    "a3 = a2.T\n",
    "print(a3)\n",
    "\n",
    "print(a2.dot(a3))\n",
    "\n",
    "x1 = np.array([[10, 20],[30, 40]])\n",
    "y1 = np.array([50, 60])\n",
    "print(np.linalg.solve(x1, y1))"
   ]
  },
  {
   "cell_type": "code",
   "execution_count": null,
   "metadata": {},
   "outputs": [],
   "source": []
  }
 ],
 "metadata": {
  "kernelspec": {
   "display_name": "Python 3",
   "language": "python",
   "name": "python3"
  },
  "language_info": {
   "codemirror_mode": {
    "name": "ipython",
    "version": 3
   },
   "file_extension": ".py",
   "mimetype": "text/x-python",
   "name": "python",
   "nbconvert_exporter": "python",
   "pygments_lexer": "ipython3",
   "version": "3.7.3"
  }
 },
 "nbformat": 4,
 "nbformat_minor": 2
}
