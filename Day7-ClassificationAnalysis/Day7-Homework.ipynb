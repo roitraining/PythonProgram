{
 "cells": [
  {
   "cell_type": "markdown",
   "metadata": {
    "colab_type": "text",
    "id": "CFvLaruIce2O"
   },
   "source": [
    "### Import the packages we will need."
   ]
  },
  {
   "cell_type": "code",
   "execution_count": 0,
   "metadata": {
    "colab": {},
    "colab_type": "code",
    "id": "cFreomQ5ce2S"
   },
   "outputs": [],
   "source": [
    "import pandas as pd\n",
    "import numpy as np\n",
    "from pandas import DataFrame, Series\n",
    "import sklearn\n",
    "import sklearn.datasets"
   ]
  },
  {
   "cell_type": "markdown",
   "metadata": {
    "colab_type": "text",
    "id": "UMYptAG8ce2X"
   },
   "source": [
    "*   Load and explore the cancer dataset\n",
    "*   Take a look at the cancer dataset, and you'll see it's a dictionary\n",
    "*   Get a list of the keys and you'll see one has the independent variables, the other has the dependent value you want to predict, yet another has the feature names\n",
    "*   Extract the independent features and turn it into a DataFrame with properly named columns\n",
    "*   Extract the dependent target and turn it into a Series"
   ]
  },
  {
   "cell_type": "code",
   "execution_count": 0,
   "metadata": {
    "colab": {},
    "colab_type": "code",
    "id": "Tv92NyiJce2Y"
   },
   "outputs": [],
   "source": [
    "cancer= sklearn.datasets.load_breast_cancer()\n",
    "print (cancer)\n",
    "print (cancer.keys())\n",
    "print (cancer.feature_names)\n",
    "\n",
    "#grab the data and target and turn them into a DataFrame and Series\n"
   ]
  },
  {
   "cell_type": "markdown",
   "metadata": {
    "colab": {},
    "colab_type": "code",
    "id": "F3KAn3Hlce2d"
   },
   "source": [
    "### Explore the descriptive statistics on the features DataFrame by using the describe method, \n",
    "it has a parameter to describe all the columns at once"
   ]
  },
  {
   "cell_type": "code",
   "execution_count": 0,
   "metadata": {
    "colab": {},
    "colab_type": "code",
    "id": "bmVTNkyRce2k"
   },
   "outputs": [],
   "source": []
  },
  {
   "cell_type": "markdown",
   "metadata": {
    "colab": {},
    "colab_type": "code",
    "id": "CmRgSWTSce2n"
   },
   "source": [
    "### Import the sklearn function to separate the datasets into training and testing sets for the X & Y values\n"
   ]
  },
  {
   "cell_type": "code",
   "execution_count": 0,
   "metadata": {
    "colab": {},
    "colab_type": "code",
    "id": "WyJqDE4Kce2r"
   },
   "outputs": [],
   "source": [
    "# set up a classification model\n",
    "from sklearn.model_selection import train_test_split\n"
   ]
  },
  {
   "cell_type": "markdown",
   "metadata": {
    "colab_type": "text",
    "id": "ozo-1bo-ce2v"
   },
   "source": [
    "\n",
    "\n",
    "* Import the naive bayes classifier from sklearn and train it using the training X & Y sets \n",
    "* Then generate the predictions and compare them to the actual targets by generating a confusion matrix"
   ]
  },
  {
   "cell_type": "code",
   "execution_count": 0,
   "metadata": {
    "colab": {},
    "colab_type": "code",
    "id": "vnFQSWZfd0SZ"
   },
   "outputs": [],
   "source": []
  }
 ],
 "metadata": {
  "colab": {
   "include_colab_link": true,
   "name": "Lab.ipynb",
   "provenance": []
  },
  "kernelspec": {
   "display_name": "Python 3",
   "language": "python",
   "name": "python3"
  },
  "language_info": {
   "codemirror_mode": {
    "name": "ipython",
    "version": 3
   },
   "file_extension": ".py",
   "mimetype": "text/x-python",
   "name": "python",
   "nbconvert_exporter": "python",
   "pygments_lexer": "ipython3",
   "version": "3.7.3"
  }
 },
 "nbformat": 4,
 "nbformat_minor": 1
}
