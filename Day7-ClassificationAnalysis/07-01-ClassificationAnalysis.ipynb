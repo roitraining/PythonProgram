{
 "cells": [
  {
   "cell_type": "markdown",
   "metadata": {
    "colab_type": "text",
    "id": "DftlMhfXlhNI"
   },
   "source": [
    "## Combine the multiple files into one big CSV since we could not load a large file to GitHub. "
   ]
  },
  {
   "cell_type": "code",
   "execution_count": null,
   "metadata": {
    "colab": {},
    "colab_type": "code",
    "id": "U79c08g9lhNK"
   },
   "outputs": [],
   "source": [
    "! ./combine.sh"
   ]
  },
  {
   "cell_type": "markdown",
   "metadata": {
    "colab_type": "text",
    "id": "PCx-mtOzlhNP"
   },
   "source": [
    "### Read in a set of data and examine it"
   ]
  },
  {
   "cell_type": "code",
   "execution_count": 1,
   "metadata": {
    "colab": {},
    "colab_type": "code",
    "id": "JYKsqCNglhNR"
   },
   "outputs": [],
   "source": [
    "import pandas as pd\n",
    "df = pd.read_csv('CreditCardFraud.csv')\n"
   ]
  },
  {
   "cell_type": "code",
   "execution_count": 2,
   "metadata": {},
   "outputs": [
    {
     "name": "stdout",
     "output_type": "stream",
     "text": [
      "(6362620, 11) Index(['step', 'type', 'amount', 'nameOrig', 'oldbalanceOrg', 'newbalanceOrig',\n",
      "       'nameDest', 'oldbalanceDest', 'newbalanceDest', 'isFraud',\n",
      "       'isFlaggedFraud'],\n",
      "      dtype='object')\n"
     ]
    },
    {
     "data": {
      "text/html": [
       "<div>\n",
       "<style scoped>\n",
       "    .dataframe tbody tr th:only-of-type {\n",
       "        vertical-align: middle;\n",
       "    }\n",
       "\n",
       "    .dataframe tbody tr th {\n",
       "        vertical-align: top;\n",
       "    }\n",
       "\n",
       "    .dataframe thead th {\n",
       "        text-align: right;\n",
       "    }\n",
       "</style>\n",
       "<table border=\"1\" class=\"dataframe\">\n",
       "  <thead>\n",
       "    <tr style=\"text-align: right;\">\n",
       "      <th></th>\n",
       "      <th>step</th>\n",
       "      <th>type</th>\n",
       "      <th>amount</th>\n",
       "      <th>nameOrig</th>\n",
       "      <th>oldbalanceOrg</th>\n",
       "      <th>newbalanceOrig</th>\n",
       "      <th>nameDest</th>\n",
       "      <th>oldbalanceDest</th>\n",
       "      <th>newbalanceDest</th>\n",
       "      <th>isFraud</th>\n",
       "      <th>isFlaggedFraud</th>\n",
       "    </tr>\n",
       "  </thead>\n",
       "  <tbody>\n",
       "    <tr>\n",
       "      <th>0</th>\n",
       "      <td>1</td>\n",
       "      <td>PAYMENT</td>\n",
       "      <td>9839.64</td>\n",
       "      <td>C1231006815</td>\n",
       "      <td>170136.0</td>\n",
       "      <td>160296.36</td>\n",
       "      <td>M1979787155</td>\n",
       "      <td>0.0</td>\n",
       "      <td>0.0</td>\n",
       "      <td>0</td>\n",
       "      <td>0</td>\n",
       "    </tr>\n",
       "    <tr>\n",
       "      <th>1</th>\n",
       "      <td>1</td>\n",
       "      <td>PAYMENT</td>\n",
       "      <td>1864.28</td>\n",
       "      <td>C1666544295</td>\n",
       "      <td>21249.0</td>\n",
       "      <td>19384.72</td>\n",
       "      <td>M2044282225</td>\n",
       "      <td>0.0</td>\n",
       "      <td>0.0</td>\n",
       "      <td>0</td>\n",
       "      <td>0</td>\n",
       "    </tr>\n",
       "    <tr>\n",
       "      <th>2</th>\n",
       "      <td>1</td>\n",
       "      <td>TRANSFER</td>\n",
       "      <td>181.00</td>\n",
       "      <td>C1305486145</td>\n",
       "      <td>181.0</td>\n",
       "      <td>0.00</td>\n",
       "      <td>C553264065</td>\n",
       "      <td>0.0</td>\n",
       "      <td>0.0</td>\n",
       "      <td>1</td>\n",
       "      <td>0</td>\n",
       "    </tr>\n",
       "    <tr>\n",
       "      <th>3</th>\n",
       "      <td>1</td>\n",
       "      <td>CASH_OUT</td>\n",
       "      <td>181.00</td>\n",
       "      <td>C840083671</td>\n",
       "      <td>181.0</td>\n",
       "      <td>0.00</td>\n",
       "      <td>C38997010</td>\n",
       "      <td>21182.0</td>\n",
       "      <td>0.0</td>\n",
       "      <td>1</td>\n",
       "      <td>0</td>\n",
       "    </tr>\n",
       "    <tr>\n",
       "      <th>4</th>\n",
       "      <td>1</td>\n",
       "      <td>PAYMENT</td>\n",
       "      <td>11668.14</td>\n",
       "      <td>C2048537720</td>\n",
       "      <td>41554.0</td>\n",
       "      <td>29885.86</td>\n",
       "      <td>M1230701703</td>\n",
       "      <td>0.0</td>\n",
       "      <td>0.0</td>\n",
       "      <td>0</td>\n",
       "      <td>0</td>\n",
       "    </tr>\n",
       "  </tbody>\n",
       "</table>\n",
       "</div>"
      ],
      "text/plain": [
       "   step      type    amount     nameOrig  oldbalanceOrg  newbalanceOrig  \\\n",
       "0     1   PAYMENT   9839.64  C1231006815       170136.0       160296.36   \n",
       "1     1   PAYMENT   1864.28  C1666544295        21249.0        19384.72   \n",
       "2     1  TRANSFER    181.00  C1305486145          181.0            0.00   \n",
       "3     1  CASH_OUT    181.00   C840083671          181.0            0.00   \n",
       "4     1   PAYMENT  11668.14  C2048537720        41554.0        29885.86   \n",
       "\n",
       "      nameDest  oldbalanceDest  newbalanceDest  isFraud  isFlaggedFraud  \n",
       "0  M1979787155             0.0             0.0        0               0  \n",
       "1  M2044282225             0.0             0.0        0               0  \n",
       "2   C553264065             0.0             0.0        1               0  \n",
       "3    C38997010         21182.0             0.0        1               0  \n",
       "4  M1230701703             0.0             0.0        0               0  "
      ]
     },
     "metadata": {},
     "output_type": "display_data"
    },
    {
     "name": "stdout",
     "output_type": "stream",
     "text": [
      "0    6354407\n",
      "1       8213\n",
      "Name: isFraud, dtype: int64\n",
      "CASH_OUT    2237500\n",
      "PAYMENT     2151495\n",
      "CASH_IN     1399284\n",
      "TRANSFER     532909\n",
      "DEBIT         41432\n",
      "Name: type, dtype: int64\n"
     ]
    }
   ],
   "source": [
    "print(df.shape, df.columns)\n",
    "train_size = .3\n",
    "test_size = .1\n",
    "\n",
    "display(df.head())\n",
    "print(df.isFraud.value_counts())\n",
    "print(df.type.value_counts())\n"
   ]
  },
  {
   "cell_type": "markdown",
   "metadata": {
    "colab_type": "text",
    "id": "8mn1AZlPlhNW"
   },
   "source": [
    "### Keep the columns we want and change the type to code numbers instead"
   ]
  },
  {
   "cell_type": "code",
   "execution_count": 3,
   "metadata": {
    "colab": {},
    "colab_type": "code",
    "id": "lz3S1g6elhNX"
   },
   "outputs": [
    {
     "name": "stdout",
     "output_type": "stream",
     "text": [
      "(6362620, 8) Index(['type', 'amount', 'oldbalanceOrg', 'newbalanceOrig', 'oldbalanceDest',\n",
      "       'newbalanceDest', 'isFlaggedFraud', 'isFraud'],\n",
      "      dtype='object')\n"
     ]
    },
    {
     "data": {
      "text/html": [
       "<div>\n",
       "<style scoped>\n",
       "    .dataframe tbody tr th:only-of-type {\n",
       "        vertical-align: middle;\n",
       "    }\n",
       "\n",
       "    .dataframe tbody tr th {\n",
       "        vertical-align: top;\n",
       "    }\n",
       "\n",
       "    .dataframe thead th {\n",
       "        text-align: right;\n",
       "    }\n",
       "</style>\n",
       "<table border=\"1\" class=\"dataframe\">\n",
       "  <thead>\n",
       "    <tr style=\"text-align: right;\">\n",
       "      <th></th>\n",
       "      <th>type</th>\n",
       "      <th>amount</th>\n",
       "      <th>oldbalanceOrg</th>\n",
       "      <th>newbalanceOrig</th>\n",
       "      <th>oldbalanceDest</th>\n",
       "      <th>newbalanceDest</th>\n",
       "      <th>isFlaggedFraud</th>\n",
       "      <th>isFraud</th>\n",
       "    </tr>\n",
       "  </thead>\n",
       "  <tbody>\n",
       "    <tr>\n",
       "      <th>0</th>\n",
       "      <td>3</td>\n",
       "      <td>9839.64</td>\n",
       "      <td>170136.0</td>\n",
       "      <td>160296.36</td>\n",
       "      <td>0.0</td>\n",
       "      <td>0.0</td>\n",
       "      <td>0</td>\n",
       "      <td>0</td>\n",
       "    </tr>\n",
       "    <tr>\n",
       "      <th>1</th>\n",
       "      <td>3</td>\n",
       "      <td>1864.28</td>\n",
       "      <td>21249.0</td>\n",
       "      <td>19384.72</td>\n",
       "      <td>0.0</td>\n",
       "      <td>0.0</td>\n",
       "      <td>0</td>\n",
       "      <td>0</td>\n",
       "    </tr>\n",
       "    <tr>\n",
       "      <th>2</th>\n",
       "      <td>4</td>\n",
       "      <td>181.00</td>\n",
       "      <td>181.0</td>\n",
       "      <td>0.00</td>\n",
       "      <td>0.0</td>\n",
       "      <td>0.0</td>\n",
       "      <td>0</td>\n",
       "      <td>1</td>\n",
       "    </tr>\n",
       "    <tr>\n",
       "      <th>3</th>\n",
       "      <td>1</td>\n",
       "      <td>181.00</td>\n",
       "      <td>181.0</td>\n",
       "      <td>0.00</td>\n",
       "      <td>21182.0</td>\n",
       "      <td>0.0</td>\n",
       "      <td>0</td>\n",
       "      <td>1</td>\n",
       "    </tr>\n",
       "    <tr>\n",
       "      <th>4</th>\n",
       "      <td>3</td>\n",
       "      <td>11668.14</td>\n",
       "      <td>41554.0</td>\n",
       "      <td>29885.86</td>\n",
       "      <td>0.0</td>\n",
       "      <td>0.0</td>\n",
       "      <td>0</td>\n",
       "      <td>0</td>\n",
       "    </tr>\n",
       "  </tbody>\n",
       "</table>\n",
       "</div>"
      ],
      "text/plain": [
       "   type    amount  oldbalanceOrg  newbalanceOrig  oldbalanceDest  \\\n",
       "0     3   9839.64       170136.0       160296.36             0.0   \n",
       "1     3   1864.28        21249.0        19384.72             0.0   \n",
       "2     4    181.00          181.0            0.00             0.0   \n",
       "3     1    181.00          181.0            0.00         21182.0   \n",
       "4     3  11668.14        41554.0        29885.86             0.0   \n",
       "\n",
       "   newbalanceDest  isFlaggedFraud  isFraud  \n",
       "0             0.0               0        0  \n",
       "1             0.0               0        0  \n",
       "2             0.0               0        1  \n",
       "3             0.0               0        1  \n",
       "4             0.0               0        0  "
      ]
     },
     "metadata": {},
     "output_type": "display_data"
    }
   ],
   "source": [
    "columns = ['type', 'amount', 'oldbalanceOrg', 'newbalanceOrig', 'oldbalanceDest', 'newbalanceDest', 'isFlaggedFraud', 'isFraud']\n",
    "df = df[columns]\n",
    "df.type = pd.Categorical(df.type).codes\n",
    "print(df.shape, df.columns)\n",
    "display(df.head())\n"
   ]
  },
  {
   "cell_type": "markdown",
   "metadata": {
    "colab_type": "text",
    "id": "FKQQPPfflhNb"
   },
   "source": [
    "### Prepare train & test sets with desired columns"
   ]
  },
  {
   "cell_type": "code",
   "execution_count": 4,
   "metadata": {
    "colab": {},
    "colab_type": "code",
    "id": "oF8rjfsJlhNd"
   },
   "outputs": [
    {
     "name": "stdout",
     "output_type": "stream",
     "text": [
      "0    635443\n",
      "1       819\n",
      "Name: isFraud, dtype: int64\n",
      "0    0.998711\n",
      "1    0.001289\n",
      "Name: isFraud, dtype: float64\n",
      "0    0.998713\n",
      "1    0.001287\n",
      "Name: isFraud, dtype: float64\n"
     ]
    },
    {
     "data": {
      "text/html": [
       "<div>\n",
       "<style scoped>\n",
       "    .dataframe tbody tr th:only-of-type {\n",
       "        vertical-align: middle;\n",
       "    }\n",
       "\n",
       "    .dataframe tbody tr th {\n",
       "        vertical-align: top;\n",
       "    }\n",
       "\n",
       "    .dataframe thead th {\n",
       "        text-align: right;\n",
       "    }\n",
       "</style>\n",
       "<table border=\"1\" class=\"dataframe\">\n",
       "  <thead>\n",
       "    <tr style=\"text-align: right;\">\n",
       "      <th></th>\n",
       "      <th>type</th>\n",
       "      <th>amount</th>\n",
       "      <th>oldbalanceOrg</th>\n",
       "      <th>newbalanceOrig</th>\n",
       "      <th>oldbalanceDest</th>\n",
       "      <th>newbalanceDest</th>\n",
       "      <th>isFlaggedFraud</th>\n",
       "    </tr>\n",
       "  </thead>\n",
       "  <tbody>\n",
       "    <tr>\n",
       "      <th>2905745</th>\n",
       "      <td>3</td>\n",
       "      <td>37893.89</td>\n",
       "      <td>459458.00</td>\n",
       "      <td>421564.11</td>\n",
       "      <td>0.00</td>\n",
       "      <td>0.00</td>\n",
       "      <td>0</td>\n",
       "    </tr>\n",
       "    <tr>\n",
       "      <th>1736803</th>\n",
       "      <td>3</td>\n",
       "      <td>6845.16</td>\n",
       "      <td>21681.00</td>\n",
       "      <td>14835.84</td>\n",
       "      <td>0.00</td>\n",
       "      <td>0.00</td>\n",
       "      <td>0</td>\n",
       "    </tr>\n",
       "    <tr>\n",
       "      <th>5280454</th>\n",
       "      <td>1</td>\n",
       "      <td>228634.04</td>\n",
       "      <td>11468.00</td>\n",
       "      <td>0.00</td>\n",
       "      <td>16189748.80</td>\n",
       "      <td>16418382.84</td>\n",
       "      <td>0</td>\n",
       "    </tr>\n",
       "    <tr>\n",
       "      <th>2661986</th>\n",
       "      <td>1</td>\n",
       "      <td>119743.66</td>\n",
       "      <td>0.00</td>\n",
       "      <td>0.00</td>\n",
       "      <td>167874.79</td>\n",
       "      <td>287618.45</td>\n",
       "      <td>0</td>\n",
       "    </tr>\n",
       "    <tr>\n",
       "      <th>5558756</th>\n",
       "      <td>0</td>\n",
       "      <td>247921.74</td>\n",
       "      <td>8331614.08</td>\n",
       "      <td>8579535.82</td>\n",
       "      <td>306347.82</td>\n",
       "      <td>58426.08</td>\n",
       "      <td>0</td>\n",
       "    </tr>\n",
       "    <tr>\n",
       "      <th>395499</th>\n",
       "      <td>0</td>\n",
       "      <td>34281.10</td>\n",
       "      <td>8133480.89</td>\n",
       "      <td>8167761.99</td>\n",
       "      <td>1515351.48</td>\n",
       "      <td>1481070.38</td>\n",
       "      <td>0</td>\n",
       "    </tr>\n",
       "    <tr>\n",
       "      <th>4164423</th>\n",
       "      <td>1</td>\n",
       "      <td>49158.31</td>\n",
       "      <td>0.00</td>\n",
       "      <td>0.00</td>\n",
       "      <td>97500.27</td>\n",
       "      <td>146658.58</td>\n",
       "      <td>0</td>\n",
       "    </tr>\n",
       "    <tr>\n",
       "      <th>2956930</th>\n",
       "      <td>3</td>\n",
       "      <td>7481.25</td>\n",
       "      <td>634.00</td>\n",
       "      <td>0.00</td>\n",
       "      <td>0.00</td>\n",
       "      <td>0.00</td>\n",
       "      <td>0</td>\n",
       "    </tr>\n",
       "    <tr>\n",
       "      <th>5837600</th>\n",
       "      <td>3</td>\n",
       "      <td>9018.38</td>\n",
       "      <td>283780.19</td>\n",
       "      <td>274761.81</td>\n",
       "      <td>0.00</td>\n",
       "      <td>0.00</td>\n",
       "      <td>0</td>\n",
       "    </tr>\n",
       "    <tr>\n",
       "      <th>1402926</th>\n",
       "      <td>1</td>\n",
       "      <td>73857.88</td>\n",
       "      <td>0.00</td>\n",
       "      <td>0.00</td>\n",
       "      <td>169013.85</td>\n",
       "      <td>253218.35</td>\n",
       "      <td>0</td>\n",
       "    </tr>\n",
       "  </tbody>\n",
       "</table>\n",
       "</div>"
      ],
      "text/plain": [
       "         type     amount  oldbalanceOrg  newbalanceOrig  oldbalanceDest  \\\n",
       "2905745     3   37893.89      459458.00       421564.11            0.00   \n",
       "1736803     3    6845.16       21681.00        14835.84            0.00   \n",
       "5280454     1  228634.04       11468.00            0.00     16189748.80   \n",
       "2661986     1  119743.66           0.00            0.00       167874.79   \n",
       "5558756     0  247921.74     8331614.08      8579535.82       306347.82   \n",
       "395499      0   34281.10     8133480.89      8167761.99      1515351.48   \n",
       "4164423     1   49158.31           0.00            0.00        97500.27   \n",
       "2956930     3    7481.25         634.00            0.00            0.00   \n",
       "5837600     3    9018.38      283780.19       274761.81            0.00   \n",
       "1402926     1   73857.88           0.00            0.00       169013.85   \n",
       "\n",
       "         newbalanceDest  isFlaggedFraud  \n",
       "2905745            0.00               0  \n",
       "1736803            0.00               0  \n",
       "5280454     16418382.84               0  \n",
       "2661986       287618.45               0  \n",
       "5558756        58426.08               0  \n",
       "395499       1481070.38               0  \n",
       "4164423       146658.58               0  \n",
       "2956930            0.00               0  \n",
       "5837600            0.00               0  \n",
       "1402926       253218.35               0  "
      ]
     },
     "metadata": {},
     "output_type": "display_data"
    }
   ],
   "source": [
    "from sklearn.model_selection import train_test_split\n",
    "from sklearn import preprocessing as pp\n",
    "dfNB = df\n",
    "trainNB_X, testNB_X, trainNB_Y, testNB_Y = train_test_split(dfNB[dfNB.columns[:-1]], dfNB.isFraud, \\\n",
    "                                        train_size = train_size, test_size = test_size, random_state = 1)\n",
    "print(testNB_Y.value_counts())\n",
    "print(trainNB_Y.value_counts()/trainNB_Y.count())\n",
    "print(testNB_Y.value_counts()/testNB_Y.count())\n",
    "display(trainNB_X.head(10))"
   ]
  },
  {
   "cell_type": "markdown",
   "metadata": {
    "colab_type": "text",
    "id": "kusVp-VnlhNg"
   },
   "source": [
    "## Create a Naive Bayes model"
   ]
  },
  {
   "cell_type": "code",
   "execution_count": 5,
   "metadata": {
    "colab": {},
    "colab_type": "code",
    "id": "iOMjiVP9lhNh"
   },
   "outputs": [
    {
     "data": {
      "text/plain": [
       "GaussianNB(priors=None, var_smoothing=1e-09)"
      ]
     },
     "execution_count": 5,
     "metadata": {},
     "output_type": "execute_result"
    }
   ],
   "source": [
    "from sklearn.naive_bayes import GaussianNB\n",
    "modelNB = GaussianNB()\n",
    "modelNB.fit(trainNB_X, trainNB_Y)"
   ]
  },
  {
   "cell_type": "markdown",
   "metadata": {
    "colab_type": "text",
    "id": "zIHKzxzrlhNm"
   },
   "source": [
    "### Examine the results of Naive Bayes"
   ]
  },
  {
   "cell_type": "code",
   "execution_count": 6,
   "metadata": {
    "colab": {},
    "colab_type": "code",
    "id": "Gu9BVBrrlhNo"
   },
   "outputs": [
    {
     "name": "stdout",
     "output_type": "stream",
     "text": [
      "Test length = 636262\n",
      "\n",
      "Test Values\n",
      "0    635443\n",
      "1       819\n",
      "Name: isFraud, dtype: int64\n",
      "\n",
      "Predicted Values\n",
      "0    629950\n",
      "1      6312\n",
      "dtype: int64\n",
      "\n",
      " TP FP\n",
      " FN TN\n",
      "[[629249   6194]\n",
      " [   701    118]]\n",
      "\n",
      " PC FP\n",
      " FN PW\n",
      "[[98.91632692  0.97349834]\n",
      " [ 0.11017474  1.08367308]]\n"
     ]
    }
   ],
   "source": [
    "def evaluate_predictions(test, pred, show_percent = True):\n",
    "    from sklearn.metrics import confusion_matrix\n",
    "    length = len(test)\n",
    "    print(f'Test length = {length}')\n",
    "    print('\\nTest Values')\n",
    "    print(test.value_counts())\n",
    "    print('\\nPredicted Values')\n",
    "    #print(pred, type(pred))\n",
    "    print(pd.value_counts(pred))\n",
    "    print('\\n TP FP\\n FN TN')\n",
    "    cm = confusion_matrix(test, pred)\n",
    "    print(cm)\n",
    "\n",
    "    if show_percent:\n",
    "        import numpy as np\n",
    "        print('\\n PC FP\\n FN PW')\n",
    "        print(np.ndarray(shape = (2,2), buffer = np.array([100 *(cm[0][0] + cm[1][1])/length, \\\n",
    "           100 * cm[0][1]/length, 100 * cm[1][0]/length, 100 * (cm[1][0] + cm[0][1])/length])))\n",
    "\n",
    "          \n",
    "\n",
    "predNB_Y = modelNB.predict(testNB_X)\n",
    "evaluate_predictions(testNB_Y, predNB_Y)\n"
   ]
  },
  {
   "cell_type": "markdown",
   "metadata": {
    "colab_type": "text",
    "id": "K9_n3marlhNs"
   },
   "source": [
    "## Save a trained model"
   ]
  },
  {
   "cell_type": "code",
   "execution_count": null,
   "metadata": {
    "colab": {},
    "colab_type": "code",
    "id": "M7Zr_8WklhNt"
   },
   "outputs": [],
   "source": [
    "from joblib import dump, load\n",
    "dump(modelNB, 'modelNB.joblib') \n"
   ]
  },
  {
   "cell_type": "markdown",
   "metadata": {
    "colab_type": "text",
    "id": "LJWFouMwlhNw"
   },
   "source": [
    "## Load a saved model"
   ]
  },
  {
   "cell_type": "code",
   "execution_count": null,
   "metadata": {
    "colab": {},
    "colab_type": "code",
    "id": "OMBMLAFOlhNy"
   },
   "outputs": [],
   "source": [
    "modelNB2 = load('modelNB.joblib')\n",
    "predNB_Y = modelNB2.predict(testNB_X)\n",
    "\n",
    "evaluate_predictions(testNB_Y, predNB_Y)\n"
   ]
  },
  {
   "cell_type": "markdown",
   "metadata": {},
   "source": [
    "## LAB 1: ## \n",
    "\n",
    "### Do a similar set of steps as Naive Bayes but this time use a Decision Tree algorithm\n",
    "\n",
    "#### 1. Import the correct model to do DecisionTree\n",
    "#### 2. Create an instance of the model\n",
    "#### 3.\tTrain the model using the training sets\n",
    "#### 4. Explore the results\n",
    "\n",
    "<br>\n",
    "<details><summary>Click for <b>hint</b></summary>\n",
    "<p>\n",
    "<b>dir</b> sklearn.tree package to find the right name of the model class\n",
    "<br>\n",
    "<b>help</b> the class name to explore the parameters. We can pass none in this case.\n",
    "<br>\n",
    "<b>fit</b> the empty model to train it\n",
    "<br>\n",
    "Use the helper function to analyze the results. Which model did a better job?\n",
    "<br>\n",
    "<br>\n",
    "</p>\n",
    "</details>\n",
    "\n",
    "\n",
    "<details><summary>Click for <b>code</b></summary>\n",
    "<p>\n",
    "\n",
    "```python\n",
    "from sklearn.tree import DecisionTreeClassifier\n",
    "dfDT = df\n",
    "\n",
    "trainDT_X, testDT_X, trainDT_Y, testDT_Y = trainNB_X, testNB_X, trainNB_Y, testNB_Y\n",
    "\n",
    "modelDT = DecisionTreeClassifier()\n",
    "modelDT.fit(trainDT_X, trainDT_Y)\n",
    "predDT_Y = modelDT.predict(testDT_X)\n",
    "evaluate_predictions(testDT_Y, predDT_Y)\n",
    "\n",
    "```\n",
    "</p>\n",
    "</details>"
   ]
  },
  {
   "cell_type": "markdown",
   "metadata": {
    "colab_type": "text",
    "id": "vnIYVeFzlhN3"
   },
   "source": [
    "## Train the Decision Tree model"
   ]
  },
  {
   "cell_type": "code",
   "execution_count": null,
   "metadata": {
    "colab": {},
    "colab_type": "code",
    "id": "vIMBWf5zlhN5"
   },
   "outputs": [],
   "source": [
    "from sklearn.tree import ???\n",
    "\n",
    "# copy the same datasets to the DT names just to keep a copy for the future\n",
    "dfDT, trainDT_X, testDT_X, trainDT_Y, testDT_Y = df, trainNB_X, testNB_X, trainNB_Y, testNB_Y\n",
    "\n"
   ]
  },
  {
   "cell_type": "markdown",
   "metadata": {},
   "source": [
    "## Decision Trees have another option to let you see what are the most important features influencing the decisions. The following helper function makes it easier to view"
   ]
  },
  {
   "cell_type": "code",
   "execution_count": null,
   "metadata": {
    "colab": {},
    "colab_type": "code",
    "id": "XB47qZLplhN-"
   },
   "outputs": [],
   "source": [
    "def important_features(model, columns):\n",
    "    return pd.DataFrame(model.feature_importances_, columns=['Importance'], index = columns).sort_values(['Importance'], ascending = False)\n",
    " \n",
    "print(important_features(modelDT, trainDT_X.columns))\n"
   ]
  },
  {
   "cell_type": "markdown",
   "metadata": {
    "colab_type": "text",
    "id": "GFqHSW1nlhOd"
   },
   "source": [
    "## Prepare the data\n",
    "### Logistic Regression requires categorical data be dummy encoded"
   ]
  },
  {
   "cell_type": "code",
   "execution_count": 11,
   "metadata": {
    "colab": {},
    "colab_type": "code",
    "id": "mRaTpXWMlhOe",
    "scrolled": true
   },
   "outputs": [
    {
     "name": "stdout",
     "output_type": "stream",
     "text": [
      "Index(['type_1', 'type_2', 'type_3', 'type_4', 'amount', 'oldbalanceOrg',\n",
      "       'newbalanceOrig', 'oldbalanceDest', 'newbalanceDest', 'isFlaggedFraud'],\n",
      "      dtype='object')\n"
     ]
    },
    {
     "data": {
      "text/html": [
       "<div>\n",
       "<style scoped>\n",
       "    .dataframe tbody tr th:only-of-type {\n",
       "        vertical-align: middle;\n",
       "    }\n",
       "\n",
       "    .dataframe tbody tr th {\n",
       "        vertical-align: top;\n",
       "    }\n",
       "\n",
       "    .dataframe thead th {\n",
       "        text-align: right;\n",
       "    }\n",
       "</style>\n",
       "<table border=\"1\" class=\"dataframe\">\n",
       "  <thead>\n",
       "    <tr style=\"text-align: right;\">\n",
       "      <th></th>\n",
       "      <th>type_1</th>\n",
       "      <th>type_2</th>\n",
       "      <th>type_3</th>\n",
       "      <th>type_4</th>\n",
       "      <th>amount</th>\n",
       "      <th>oldbalanceOrg</th>\n",
       "      <th>newbalanceOrig</th>\n",
       "      <th>oldbalanceDest</th>\n",
       "      <th>newbalanceDest</th>\n",
       "      <th>isFlaggedFraud</th>\n",
       "    </tr>\n",
       "  </thead>\n",
       "  <tbody>\n",
       "    <tr>\n",
       "      <th>6322570</th>\n",
       "      <td>0</td>\n",
       "      <td>0</td>\n",
       "      <td>0</td>\n",
       "      <td>0</td>\n",
       "      <td>23557.12</td>\n",
       "      <td>8059.00</td>\n",
       "      <td>31616.12</td>\n",
       "      <td>169508.66</td>\n",
       "      <td>145951.53</td>\n",
       "      <td>0</td>\n",
       "    </tr>\n",
       "    <tr>\n",
       "      <th>3621196</th>\n",
       "      <td>0</td>\n",
       "      <td>0</td>\n",
       "      <td>1</td>\n",
       "      <td>0</td>\n",
       "      <td>6236.13</td>\n",
       "      <td>0.00</td>\n",
       "      <td>0.00</td>\n",
       "      <td>0.00</td>\n",
       "      <td>0.00</td>\n",
       "      <td>0</td>\n",
       "    </tr>\n",
       "    <tr>\n",
       "      <th>1226256</th>\n",
       "      <td>0</td>\n",
       "      <td>0</td>\n",
       "      <td>1</td>\n",
       "      <td>0</td>\n",
       "      <td>33981.87</td>\n",
       "      <td>18745.72</td>\n",
       "      <td>0.00</td>\n",
       "      <td>0.00</td>\n",
       "      <td>0.00</td>\n",
       "      <td>0</td>\n",
       "    </tr>\n",
       "    <tr>\n",
       "      <th>2803274</th>\n",
       "      <td>1</td>\n",
       "      <td>0</td>\n",
       "      <td>0</td>\n",
       "      <td>0</td>\n",
       "      <td>263006.42</td>\n",
       "      <td>20072.00</td>\n",
       "      <td>0.00</td>\n",
       "      <td>390253.56</td>\n",
       "      <td>653259.98</td>\n",
       "      <td>0</td>\n",
       "    </tr>\n",
       "    <tr>\n",
       "      <th>3201247</th>\n",
       "      <td>1</td>\n",
       "      <td>0</td>\n",
       "      <td>0</td>\n",
       "      <td>0</td>\n",
       "      <td>152013.74</td>\n",
       "      <td>20765.00</td>\n",
       "      <td>0.00</td>\n",
       "      <td>252719.19</td>\n",
       "      <td>404732.93</td>\n",
       "      <td>0</td>\n",
       "    </tr>\n",
       "  </tbody>\n",
       "</table>\n",
       "</div>"
      ],
      "text/plain": [
       "         type_1  type_2  type_3  type_4     amount  oldbalanceOrg  \\\n",
       "6322570       0       0       0       0   23557.12        8059.00   \n",
       "3621196       0       0       1       0    6236.13           0.00   \n",
       "1226256       0       0       1       0   33981.87       18745.72   \n",
       "2803274       1       0       0       0  263006.42       20072.00   \n",
       "3201247       1       0       0       0  152013.74       20765.00   \n",
       "\n",
       "         newbalanceOrig  oldbalanceDest  newbalanceDest  isFlaggedFraud  \n",
       "6322570        31616.12       169508.66       145951.53               0  \n",
       "3621196            0.00            0.00            0.00               0  \n",
       "1226256            0.00            0.00            0.00               0  \n",
       "2803274            0.00       390253.56       653259.98               0  \n",
       "3201247            0.00       252719.19       404732.93               0  "
      ]
     },
     "metadata": {},
     "output_type": "display_data"
    }
   ],
   "source": [
    "from sklearn.model_selection import train_test_split\n",
    "from sklearn import preprocessing as pp\n",
    "\n",
    "def dummy_code(data, columns, drop_first = True):\n",
    "    for c in columns:\n",
    "        dummies = pd.get_dummies(data[c], prefix = c, drop_first = drop_first)\n",
    "        i = list(data.columns).index(c)\n",
    "        data = pd.concat([data.iloc[:,:i], dummies, data.iloc[:,i+1:]], axis = 1)\n",
    "    return data\n",
    "\n",
    "dfLR = dummy_code(df, ['type'], drop_first = True)\n",
    "trainLR_X, testLR_X, trainLR_Y, testLR_Y = train_test_split(dfLR.iloc[:,dfLR.columns != 'isFraud'], dfLR.isFraud, train_size = train_size, test_size = test_size, random_state = 1)\n",
    "\n",
    "print(testLR_X.columns)\n",
    "display(testLR_X.head())\n"
   ]
  },
  {
   "cell_type": "markdown",
   "metadata": {
    "colab_type": "text",
    "id": "_jje5i7zlhOn"
   },
   "source": [
    "## Create a Logistic Regression model"
   ]
  },
  {
   "cell_type": "code",
   "execution_count": 12,
   "metadata": {
    "colab": {},
    "colab_type": "code",
    "id": "4hcmFoNIlhOq"
   },
   "outputs": [
    {
     "name": "stdout",
     "output_type": "stream",
     "text": [
      "[[-2.50015885e-08 -2.47027152e-09 -3.46986719e-07 -1.01513317e-09\n",
      "  -7.84424352e-04  7.89335688e-04 -8.72767319e-04  1.61294655e-06\n",
      "  -3.37197922e-06  1.61130009e-11]]\n"
     ]
    }
   ],
   "source": [
    "from sklearn.linear_model import LogisticRegression\n",
    "modelLR = LogisticRegression(multi_class='auto', solver='lbfgs')\n",
    "modelLR.fit(trainLR_X, trainLR_Y)\n",
    "print(modelLR.coef_)"
   ]
  },
  {
   "cell_type": "markdown",
   "metadata": {
    "colab_type": "text",
    "id": "eQBvfbCilhOt"
   },
   "source": [
    "## Examine the results of Logistic Regression"
   ]
  },
  {
   "cell_type": "code",
   "execution_count": 13,
   "metadata": {
    "colab": {},
    "colab_type": "code",
    "id": "O7gJdlFelhOu"
   },
   "outputs": [
    {
     "name": "stdout",
     "output_type": "stream",
     "text": [
      "0.9974915993725855 0.002508400627414493 \n",
      "\n",
      "Test length = 636262\n",
      "\n",
      "Test Values\n",
      "0    635443\n",
      "1       819\n",
      "Name: isFraud, dtype: int64\n",
      "\n",
      "Predicted Values\n",
      "0    634223\n",
      "1      2039\n",
      "dtype: int64\n",
      "\n",
      " TP FP\n",
      " FN TN\n",
      "[[634035   1408]\n",
      " [   188    631]]\n",
      "\n",
      " PC FP\n",
      " FN PW\n",
      "[[9.97491599e+01 2.21292486e-01]\n",
      " [2.95475763e-02 2.50840063e-01]]\n"
     ]
    }
   ],
   "source": [
    "%matplotlib inline\n",
    "import numpy as np\n",
    "predLR_Y = modelLR.predict(testLR_X)\n",
    "\n",
    "score = modelLR.score(testLR_X, testLR_Y)\n",
    "mse = np.mean((predLR_Y - testLR_Y)**2)\n",
    "print(score, mse, '\\n')\n",
    "\n",
    "evaluate_predictions(testLR_Y, predLR_Y)\n"
   ]
  },
  {
   "cell_type": "markdown",
   "metadata": {},
   "source": [
    "## Logistic regression has another option called predict_proba() that can be used to set a custom threshold rather than the default."
   ]
  },
  {
   "cell_type": "code",
   "execution_count": 14,
   "metadata": {},
   "outputs": [
    {
     "data": {
      "text/plain": [
       "array([[1.00000000e+00, 4.55741514e-18],\n",
       "       [9.92547852e-01, 7.45214764e-03],\n",
       "       [9.99992929e-01, 7.07071912e-06],\n",
       "       ...,\n",
       "       [9.98552352e-01, 1.44764768e-03],\n",
       "       [9.99652270e-01, 3.47730292e-04],\n",
       "       [9.99999784e-01, 2.16187600e-07]])"
      ]
     },
     "metadata": {},
     "output_type": "display_data"
    },
    {
     "data": {
      "image/png": "[encoded data removed]",
      "text/plain": [
       "<Figure size 432x288 with 1 Axes>"
      ]
     },
     "metadata": {
      "needs_background": "light"
     },
     "output_type": "display_data"
    }
   ],
   "source": [
    "predLR_Y1 = modelLR.predict_proba(testLR_X)\n",
    "display(predLR_Y1)\n",
    "\n",
    "from sklearn.metrics import roc_auc_score, roc_curve\n",
    "roc = roc_auc_score(testLR_Y, predLR_Y)\n",
    "fpr, tpr, x = roc_curve(testLR_Y, predLR_Y1[:,1])\n",
    "\n",
    "import matplotlib.pyplot as plt\n",
    "plt.plot(fpr, tpr, label = 'AUC = ' + str(roc))\n",
    "plt.legend(loc=4)\n",
    "plt.show()\n"
   ]
  },
  {
   "cell_type": "markdown",
   "metadata": {
    "colab_type": "text",
    "id": "mTgCGR1XlhOy"
   },
   "source": [
    "## Try Logistic Regression with different probability thresholds to change ratio of false negatives and positives"
   ]
  },
  {
   "cell_type": "code",
   "execution_count": 15,
   "metadata": {
    "colab": {},
    "colab_type": "code",
    "id": "5CcSOW6YlhOz"
   },
   "outputs": [
    {
     "name": "stdout",
     "output_type": "stream",
     "text": [
      "[[1.00000000e+000 4.55741514e-018]\n",
      " [9.92547852e-001 7.45214764e-003]\n",
      " [9.99992929e-001 7.07071912e-006]\n",
      " [1.00000000e+000 3.96986341e-084]\n",
      " [1.00000000e+000 8.24050302e-046]\n",
      " [9.03717842e-001 9.62821576e-002]\n",
      " [1.00000000e+000 5.48779516e-047]\n",
      " [1.00000000e+000 3.96251854e-179]\n",
      " [1.00000000e+000 0.00000000e+000]\n",
      " [1.00000000e+000 1.76537176e-249]]\n",
      "Score 0.9974915993725855\n",
      "\n",
      "THRESHOLD 10 MSE 0.0008644237751115107\n",
      "Test length = 636262\n",
      "\n",
      "Test Values\n",
      "0    635443\n",
      "1       819\n",
      "Name: isFraud, dtype: int64\n",
      "\n",
      "Predicted Values\n",
      "0    635993\n",
      "1       269\n",
      "dtype: int64\n",
      "\n",
      " TP FP\n",
      " FN TN\n",
      "[[635443      0]\n",
      " [   550    269]]\n",
      "\n",
      "THRESHOLD 20 MSE 0.0007779813976003596\n",
      "Test length = 636262\n",
      "\n",
      "Test Values\n",
      "0    635443\n",
      "1       819\n",
      "Name: isFraud, dtype: int64\n",
      "\n",
      "Predicted Values\n",
      "0    635936\n",
      "1       326\n",
      "dtype: int64\n",
      "\n",
      " TP FP\n",
      " FN TN\n",
      "[[635442      1]\n",
      " [   494    325]]\n",
      "\n",
      "THRESHOLD 30 MSE 0.0006899673404980967\n",
      "Test length = 636262\n",
      "\n",
      "Test Values\n",
      "0    635443\n",
      "1       819\n",
      "Name: isFraud, dtype: int64\n",
      "\n",
      "Predicted Values\n",
      "0    635878\n",
      "1       384\n",
      "dtype: int64\n",
      "\n",
      " TP FP\n",
      " FN TN\n",
      "[[635441      2]\n",
      " [   437    382]]\n",
      "\n",
      "THRESHOLD 40 MSE 0.0005485161772980313\n",
      "Test length = 636262\n",
      "\n",
      "Test Values\n",
      "0    635443\n",
      "1       819\n",
      "Name: isFraud, dtype: int64\n",
      "\n",
      "Predicted Values\n",
      "0    635768\n",
      "1       494\n",
      "dtype: int64\n",
      "\n",
      " TP FP\n",
      " FN TN\n",
      "[[635431     12]\n",
      " [   337    482]]\n",
      "\n",
      "THRESHOLD 50 MSE 0.002508400627414493\n",
      "Test length = 636262\n",
      "\n",
      "Test Values\n",
      "0    635443\n",
      "1       819\n",
      "Name: isFraud, dtype: int64\n",
      "\n",
      "Predicted Values\n",
      "0    634223\n",
      "1      2039\n",
      "dtype: int64\n",
      "\n",
      " TP FP\n",
      " FN TN\n",
      "[[634035   1408]\n",
      " [   188    631]]\n",
      "\n",
      "THRESHOLD 60 MSE 0.022662048024241585\n",
      "Test length = 636262\n",
      "\n",
      "Test Values\n",
      "0    635443\n",
      "1       819\n",
      "Name: isFraud, dtype: int64\n",
      "\n",
      "Predicted Values\n",
      "0    621300\n",
      "1     14962\n",
      "dtype: int64\n",
      "\n",
      " TP FP\n",
      " FN TN\n",
      "[[621162  14281]\n",
      " [   138    681]]\n",
      "\n",
      "THRESHOLD 70 MSE 0.04380899692265136\n",
      "Test length = 636262\n",
      "\n",
      "Test Values\n",
      "0    635443\n",
      "1       819\n",
      "Name: isFraud, dtype: int64\n",
      "\n",
      "Predicted Values\n",
      "0    607793\n",
      "1     28469\n",
      "dtype: int64\n",
      "\n",
      " TP FP\n",
      " FN TN\n",
      "[[607681  27762]\n",
      " [   112    707]]\n",
      "\n",
      "THRESHOLD 80 MSE 0.06706513983233323\n",
      "Test length = 636262\n",
      "\n",
      "Test Values\n",
      "0    635443\n",
      "1       819\n",
      "Name: isFraud, dtype: int64\n",
      "\n",
      "Predicted Values\n",
      "0    592944\n",
      "1     43318\n",
      "dtype: int64\n",
      "\n",
      " TP FP\n",
      " FN TN\n",
      "[[592858  42585]\n",
      " [    86    733]]\n",
      "\n",
      "THRESHOLD 90 MSE 0.09723195790413383\n",
      "Test length = 636262\n",
      "\n",
      "Test Values\n",
      "0    635443\n",
      "1       819\n",
      "Name: isFraud, dtype: int64\n",
      "\n",
      "Predicted Values\n",
      "0    573712\n",
      "1     62550\n",
      "dtype: int64\n",
      "\n",
      " TP FP\n",
      " FN TN\n",
      "[[573645  61798]\n",
      " [    67    752]]\n"
     ]
    }
   ],
   "source": [
    "predLR_Y = modelLR.predict_proba(testLR_X)\n",
    "print(predLR_Y[:10])\n",
    "print('Score', modelLR.score(testLR_X, testLR_Y))\n",
    "\n",
    "for threshold in range(10, 91, 10):\n",
    "    predLR_Y1 = np.where(predLR_Y[:,0] >= threshold/100, 0, 1)\n",
    "    mse = np.mean((predLR_Y1 - testLR_Y)**2)\n",
    "    print ('\\nTHRESHOLD', threshold, 'MSE', mse)\n",
    "\n",
    "    evaluate_predictions(testLR_Y, predLR_Y1, show_percent = False)\n",
    "\n"
   ]
  },
  {
   "cell_type": "markdown",
   "metadata": {
    "colab_type": "text",
    "id": "t2zNQoQblhO6"
   },
   "source": [
    "## Prepare the data for a Neural Network\n",
    "### This time you should not drop the first column when dummy encoding. Additionally, data works better if it is rescaled."
   ]
  },
  {
   "cell_type": "code",
   "execution_count": 16,
   "metadata": {
    "colab": {},
    "colab_type": "code",
    "id": "W28T7EjClhO7"
   },
   "outputs": [
    {
     "name": "stdout",
     "output_type": "stream",
     "text": [
      "Index(['type_0', 'type_1', 'type_2', 'type_3', 'type_4', 'amount',\n",
      "       'oldbalanceOrg', 'newbalanceOrig', 'oldbalanceDest', 'newbalanceDest',\n",
      "       'isFlaggedFraud', 'isFraud'],\n",
      "      dtype='object')\n"
     ]
    }
   ],
   "source": [
    "from sklearn.model_selection import train_test_split\n",
    "from sklearn import preprocessing as pp\n",
    "# rescale the data\n",
    "dfNN = dummy_code(df, ['type'], drop_first = False)\n",
    "print(dfNN.columns)\n",
    "dfNN[['amount',  'oldbalanceOrg', 'newbalanceOrig', 'oldbalanceDest', 'newbalanceDest']] /= dfNN[['amount',  'oldbalanceOrg', 'newbalanceOrig', 'oldbalanceDest', 'newbalanceDest']].max()\n",
    "trainNN_X, testNN_X, trainNN_Y, testNN_Y = train_test_split(dfNN.iloc[:,dfNN.columns != 'isFraud'], dfNN.isFraud, train_size = train_size, test_size = test_size, random_state = 1)\n",
    "\n"
   ]
  },
  {
   "cell_type": "markdown",
   "metadata": {
    "colab_type": "text",
    "id": "tcfBRlA8lhPC"
   },
   "source": [
    "## Create a Neural Network model\n",
    "This is running very slow here so let's not do it"
   ]
  },
  {
   "cell_type": "code",
   "execution_count": 17,
   "metadata": {
    "colab": {},
    "colab_type": "code",
    "id": "0HnUlj-TlhPD"
   },
   "outputs": [
    {
     "data": {
      "text/plain": [
       "MLPClassifier(activation='logistic', alpha=0.0001, batch_size='auto',\n",
       "       beta_1=0.9, beta_2=0.999, early_stopping=False, epsilon=1e-08,\n",
       "       hidden_layer_sizes=(5, 3, 2), learning_rate='constant',\n",
       "       learning_rate_init=0.001, max_iter=200, momentum=0.9,\n",
       "       n_iter_no_change=10, nesterovs_momentum=True, power_t=0.5,\n",
       "       random_state=None, shuffle=True, solver='adam', tol=0.0001,\n",
       "       validation_fraction=0.1, verbose=False, warm_start=False)"
      ]
     },
     "execution_count": 17,
     "metadata": {},
     "output_type": "execute_result"
    }
   ],
   "source": [
    "from sklearn.neural_network import MLPClassifier\n",
    "modelNN = MLPClassifier(hidden_layer_sizes = (5, 3, 2), activation = 'logistic')\n",
    "modelNN.fit(trainNN_X, trainNN_Y)"
   ]
  },
  {
   "cell_type": "markdown",
   "metadata": {
    "colab_type": "text",
    "id": "eyo1DTHYlhPJ"
   },
   "source": [
    "## Examine the results of Neural Network predictions"
   ]
  },
  {
   "cell_type": "code",
   "execution_count": 18,
   "metadata": {
    "colab": {},
    "colab_type": "code",
    "id": "0WD0s5Z0lhPL"
   },
   "outputs": [
    {
     "name": "stdout",
     "output_type": "stream",
     "text": [
      "Test length = 636262\n",
      "\n",
      "Test Values\n",
      "0    635443\n",
      "1       819\n",
      "Name: isFraud, dtype: int64\n",
      "\n",
      "Predicted Values\n",
      "0    635879\n",
      "1       383\n",
      "dtype: int64\n",
      "\n",
      " TP FP\n",
      " FN TN\n",
      "[[635386     57]\n",
      " [   493    326]]\n"
     ]
    }
   ],
   "source": [
    "predNN_Y = modelNN.predict(testNN_X)\n",
    "\n",
    "evaluate_predictions(testNN_Y, predNN_Y, show_percent = False)\n",
    "\n"
   ]
  },
  {
   "cell_type": "markdown",
   "metadata": {
    "colab_type": "text",
    "id": "_SWOc1o2lhPO"
   },
   "source": [
    "## Create a SVM model"
   ]
  },
  {
   "cell_type": "code",
   "execution_count": 19,
   "metadata": {
    "colab": {},
    "colab_type": "code",
    "id": "QNuyggKylhPQ"
   },
   "outputs": [
    {
     "name": "stdout",
     "output_type": "stream",
     "text": [
      "\n",
      "Kernel: linear Gamma: auto\n",
      "0.9988684049224386\n",
      "Test length = 63627\n",
      "\n",
      "Test Values\n",
      "0    63554\n",
      "1       73\n",
      "Name: isFraud, dtype: int64\n",
      "\n",
      "Predicted Values\n",
      "0    63626\n",
      "1        1\n",
      "dtype: int64\n",
      "\n",
      " TP FP\n",
      " FN TN\n",
      "[[63554     0]\n",
      " [   72     1]]\n",
      "\n",
      "Kernel: rbf Gamma: auto\n",
      "0.9988526883241391\n",
      "Test length = 63627\n",
      "\n",
      "Test Values\n",
      "0    63554\n",
      "1       73\n",
      "Name: isFraud, dtype: int64\n",
      "\n",
      "Predicted Values\n",
      "0    63627\n",
      "dtype: int64\n",
      "\n",
      " TP FP\n",
      " FN TN\n",
      "[[63554     0]\n",
      " [   73     0]]\n",
      "\n",
      "Kernel: rbf Gamma: 10\n",
      "0.9989627045122353\n",
      "Test length = 63627\n",
      "\n",
      "Test Values\n",
      "0    63554\n",
      "1       73\n",
      "Name: isFraud, dtype: int64\n",
      "\n",
      "Predicted Values\n",
      "0    63620\n",
      "1        7\n",
      "dtype: int64\n",
      "\n",
      " TP FP\n",
      " FN TN\n",
      "[[63554     0]\n",
      " [   66     7]]\n",
      "\n",
      "Kernel: rbf Gamma: 100\n",
      "0.9991041538969305\n",
      "Test length = 63627\n",
      "\n",
      "Test Values\n",
      "0    63554\n",
      "1       73\n",
      "Name: isFraud, dtype: int64\n",
      "\n",
      "Predicted Values\n",
      "0    63611\n",
      "1       16\n",
      "dtype: int64\n",
      "\n",
      " TP FP\n",
      " FN TN\n",
      "[[63554     0]\n",
      " [   57    16]]\n",
      "\n",
      "Kernel: poly Gamma: auto\n",
      "0.9988526883241391\n",
      "Test length = 63627\n",
      "\n",
      "Test Values\n",
      "0    63554\n",
      "1       73\n",
      "Name: isFraud, dtype: int64\n",
      "\n",
      "Predicted Values\n",
      "0    63627\n",
      "dtype: int64\n",
      "\n",
      " TP FP\n",
      " FN TN\n",
      "[[63554     0]\n",
      " [   73     0]]\n",
      "\n",
      "Kernel: poly Gamma: 10\n",
      "0.9991670202901284\n",
      "Test length = 63627\n",
      "\n",
      "Test Values\n",
      "0    63554\n",
      "1       73\n",
      "Name: isFraud, dtype: int64\n",
      "\n",
      "Predicted Values\n",
      "0    63607\n",
      "1       20\n",
      "dtype: int64\n",
      "\n",
      " TP FP\n",
      " FN TN\n",
      "[[63554     0]\n",
      " [   53    20]]\n",
      "\n",
      "Kernel: sigmoid Gamma: auto\n",
      "0.9988526883241391\n",
      "Test length = 63627\n",
      "\n",
      "Test Values\n",
      "0    63554\n",
      "1       73\n",
      "Name: isFraud, dtype: int64\n",
      "\n",
      "Predicted Values\n",
      "0    63627\n",
      "dtype: int64\n",
      "\n",
      " TP FP\n",
      " FN TN\n",
      "[[63554     0]\n",
      " [   73     0]]\n",
      "\n",
      "Kernel: sigmoid Gamma: 10\n",
      "0.9983340405802568\n",
      "Test length = 63627\n",
      "\n",
      "Test Values\n",
      "0    63554\n",
      "1       73\n",
      "Name: isFraud, dtype: int64\n",
      "\n",
      "Predicted Values\n",
      "0    63594\n",
      "1       33\n",
      "dtype: int64\n",
      "\n",
      " TP FP\n",
      " FN TN\n",
      "[[63521    33]\n",
      " [   73     0]]\n",
      "\n",
      "Kernel: sigmoid Gamma: 100\n",
      "0.998003992015968\n",
      "Test length = 63627\n",
      "\n",
      "Test Values\n",
      "0    63554\n",
      "1       73\n",
      "Name: isFraud, dtype: int64\n",
      "\n",
      "Predicted Values\n",
      "0    63573\n",
      "1       54\n",
      "dtype: int64\n",
      "\n",
      " TP FP\n",
      " FN TN\n",
      "[[63500    54]\n",
      " [   73     0]]\n"
     ]
    }
   ],
   "source": [
    "from sklearn import svm\n",
    "train_size = .03\n",
    "test_size = .01\n",
    "dfSVM = dfNN\n",
    "trainSVM_X, testSVM_X, trainSVM_Y, testSVM_Y = train_test_split(dfSVM.iloc[:,dfSVM.columns != 'isFraud'], dfSVM.isFraud, train_size = train_size, test_size = test_size)\n",
    "\n",
    "def do_SVM(kernel, gamma):\n",
    "    print (\"\\nKernel:\", kernel, \"Gamma:\", gamma)\n",
    "    modelSVM = svm.SVC(gamma = gamma,  kernel = kernel)\n",
    "    modelSVM.fit(trainSVM_X, trainSVM_Y)\n",
    "    print (modelSVM.score(testSVM_X, testSVM_Y))\n",
    "\n",
    "    predSVM_Y = modelSVM.predict(testSVM_X)\n",
    "    evaluate_predictions(testSVM_Y, predSVM_Y, show_percent = False)\n",
    "    \n",
    "do_SVM('linear', gamma='auto')\n",
    "\n",
    "for kernel in ['rbf', 'poly', 'sigmoid']:\n",
    "    for gamma in ['auto', 10, 100]:\n",
    "        if not (kernel == 'poly' and gamma == 100):\n",
    "           do_SVM(kernel, gamma)\n",
    "\n"
   ]
  },
  {
   "cell_type": "markdown",
   "metadata": {},
   "source": [
    "## Ensemble Learning"
   ]
  },
  {
   "cell_type": "markdown",
   "metadata": {
    "colab_type": "text",
    "id": "ZEVweEHXlhOB"
   },
   "source": [
    "## Create and train a Random Forest Classifier"
   ]
  },
  {
   "cell_type": "code",
   "execution_count": 20,
   "metadata": {
    "colab": {},
    "colab_type": "code",
    "id": "To_f6JTWlhOC"
   },
   "outputs": [
    {
     "data": {
      "text/plain": [
       "RandomForestClassifier(bootstrap=True, class_weight=None, criterion='gini',\n",
       "            max_depth=None, max_features='auto', max_leaf_nodes=None,\n",
       "            min_impurity_decrease=0.0, min_impurity_split=None,\n",
       "            min_samples_leaf=1, min_samples_split=2,\n",
       "            min_weight_fraction_leaf=0.0, n_estimators=10, n_jobs=None,\n",
       "            oob_score=False, random_state=None, verbose=0,\n",
       "            warm_start=False)"
      ]
     },
     "execution_count": 20,
     "metadata": {},
     "output_type": "execute_result"
    }
   ],
   "source": [
    "from sklearn.ensemble import RandomForestClassifier\n",
    "modelRF = RandomForestClassifier(n_estimators=10)\n",
    "trainRF_X, trainRF_Y, testRF_X, testRF_Y = trainDT_X, trainDT_Y, testDT_X, testDT_Y\n",
    "modelRF.fit(trainRF_X, trainRF_Y)"
   ]
  },
  {
   "cell_type": "markdown",
   "metadata": {
    "colab_type": "text",
    "id": "lycJ3JJZlhOI"
   },
   "source": [
    "## Test the accuracy of the predictions and examine important features"
   ]
  },
  {
   "cell_type": "code",
   "execution_count": null,
   "metadata": {
    "colab": {},
    "colab_type": "code",
    "id": "-4yKn4pklhOJ"
   },
   "outputs": [],
   "source": [
    "predRF_Y = modelRF.predict(testRF_X)\n",
    "from sklearn import metrics\n",
    "print (\"Accuracy:\",metrics.accuracy_score(testRF_Y, predRF_Y))\n",
    "\n",
    "cm = confusion_matrix(testRF_Y, predRF_Y)\n",
    "print (cm)\n",
    "\n",
    "import pandas as pd\n",
    "feature_imp = pd.Series(modelRF.feature_importances_,index=trainRF_X.columns).sort_values(ascending=False)\n",
    "print (feature_imp)"
   ]
  },
  {
   "cell_type": "markdown",
   "metadata": {
    "colab_type": "text",
    "id": "_Iqv4i89lhOM"
   },
   "source": [
    "## Visualize important features"
   ]
  },
  {
   "cell_type": "code",
   "execution_count": null,
   "metadata": {
    "colab": {},
    "colab_type": "code",
    "id": "gLly66iulhON"
   },
   "outputs": [],
   "source": [
    "import matplotlib.pyplot as plt\n",
    "import seaborn as sns\n",
    "%matplotlib inline\n",
    "# Creating a bar plot\n",
    "sns.barplot(x=feature_imp, y=feature_imp.index)\n",
    "# Add labels to your graph\n",
    "plt.xlabel('Feature Importance Score')\n",
    "plt.ylabel('Features')\n",
    "plt.title(\"Visualizing Important Features\")\n",
    "plt.legend()\n",
    "plt.show()\n"
   ]
  },
  {
   "cell_type": "markdown",
   "metadata": {
    "colab_type": "text",
    "id": "-bGX1pYklhOR"
   },
   "source": [
    "## Try removing less important features and retrain it"
   ]
  },
  {
   "cell_type": "code",
   "execution_count": null,
   "metadata": {
    "colab": {},
    "colab_type": "code",
    "id": "TtPKVlDKlhOS"
   },
   "outputs": [],
   "source": [
    "newTrainRF_X = trainRF_X[['newbalanceDest', 'oldbalanceOrg', 'amount', 'oldbalanceDest']]\n",
    "newTestRF_X = testRF_X[['newbalanceDest', 'oldbalanceOrg', 'amount', 'oldbalanceDest']]\n",
    "from sklearn.ensemble import RandomForestClassifier\n",
    "modelRF = RandomForestClassifier(n_estimators=10)\n",
    "modelRF.fit(newTrainRF_X, trainRF_Y)"
   ]
  },
  {
   "cell_type": "markdown",
   "metadata": {
    "colab_type": "text",
    "id": "BhtCXClKlhOY"
   },
   "source": [
    "### In this case the accuracy did not go up, but in many cases it does"
   ]
  },
  {
   "cell_type": "code",
   "execution_count": null,
   "metadata": {
    "colab": {},
    "colab_type": "code",
    "id": "UhFbYZ2slhOa"
   },
   "outputs": [],
   "source": [
    "newpredRF_Y = modelRF.predict(newTestRF_X)\n",
    "from sklearn import metrics\n",
    "print (\"Accuracy:\",metrics.accuracy_score(testRF_Y, newpredRF_Y))\n",
    "cm = confusion_matrix(testRF_Y, newpredRF_Y)\n",
    "print (cm)\n",
    "\n",
    "import pandas as pd\n",
    "feature_imp = pd.Series(modelRF.feature_importances_,index=newTrainRF_X.columns).sort_values(ascending=False)\n",
    "print (feature_imp)"
   ]
  },
  {
   "cell_type": "markdown",
   "metadata": {},
   "source": [
    "### Voting Classifier will run all thee specified models and choose the result based on voting among the models"
   ]
  },
  {
   "cell_type": "code",
   "execution_count": 22,
   "metadata": {
    "colab": {},
    "colab_type": "code",
    "id": "Lh0Dviv-lhPg"
   },
   "outputs": [
    {
     "data": {
      "text/plain": [
       "VotingClassifier(estimators=[('dt', DecisionTreeClassifier(class_weight=None, criterion='gini', max_depth=None,\n",
       "            max_features=None, max_leaf_nodes=None,\n",
       "            min_impurity_decrease=0.0, min_impurity_split=None,\n",
       "            min_samples_leaf=1, min_samples_split=2,\n",
       "            min_weight_fraction_leaf=0.0, presort=False, random_state=None,\n",
       "            splitter='best')), ('nb', GaussianNB(priors=None, var_smoothing=1e-09))],\n",
       "         flatten_transform=None, n_jobs=None, voting='hard', weights=None)"
      ]
     },
     "execution_count": 22,
     "metadata": {},
     "output_type": "execute_result"
    }
   ],
   "source": [
    "from sklearn.ensemble import VotingClassifier\n",
    "modelVC = VotingClassifier(estimators=[('dt', modelDT), ('nb', modelNB)], voting='hard')\n",
    "modelVC.fit(trainDT_X, trainDT_Y)\n"
   ]
  },
  {
   "cell_type": "code",
   "execution_count": 24,
   "metadata": {},
   "outputs": [
    {
     "name": "stdout",
     "output_type": "stream",
     "text": [
      "0.9988966809270395\n",
      "Test length = 636262\n",
      "\n",
      "Test Values\n",
      "0    635443\n",
      "1       819\n",
      "Name: isFraud, dtype: int64\n",
      "\n",
      "Predicted Values\n",
      "0    636143\n",
      "1       119\n",
      "dtype: int64\n",
      "\n",
      " TP FP\n",
      " FN TN\n",
      "[[635442      1]\n",
      " [   701    118]]\n"
     ]
    }
   ],
   "source": [
    "print(modelVC.score(testDT_X, testDT_Y))\n",
    "predVC_Y = modelVC.predict(testDT_X)\n",
    "evaluate_predictions(testDT_Y, predVC_Y, show_percent = False)\n"
   ]
  },
  {
   "cell_type": "code",
   "execution_count": null,
   "metadata": {},
   "outputs": [],
   "source": []
  }
 ],
 "metadata": {
  "colab": {
   "include_colab_link": true,
   "name": "07-01-ClassificationAnalysis.ipynb",
   "provenance": []
  },
  "kernelspec": {
   "display_name": "Python 3",
   "language": "python",
   "name": "python3"
  },
  "language_info": {
   "codemirror_mode": {
    "name": "ipython",
    "version": 3
   },
   "file_extension": ".py",
   "mimetype": "text/x-python",
   "name": "python",
   "nbconvert_exporter": "python",
   "pygments_lexer": "ipython3",
   "version": "3.7.3"
  }
 },
 "nbformat": 4,
 "nbformat_minor": 1
}
